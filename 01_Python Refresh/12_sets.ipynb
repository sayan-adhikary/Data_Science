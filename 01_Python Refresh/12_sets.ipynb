{
 "cells": [
  {
   "cell_type": "code",
   "execution_count": 1,
   "id": "ca924f4a-1b0c-4da9-aae3-f11e961cb376",
   "metadata": {},
   "outputs": [],
   "source": [
    "a = {}"
   ]
  },
  {
   "cell_type": "code",
   "execution_count": 2,
   "id": "42e02997-de45-4382-a3e4-cff5fd00c605",
   "metadata": {},
   "outputs": [
    {
     "data": {
      "text/plain": [
       "dict"
      ]
     },
     "execution_count": 2,
     "metadata": {},
     "output_type": "execute_result"
    }
   ],
   "source": [
    "type(a)"
   ]
  },
  {
   "cell_type": "code",
   "execution_count": 3,
   "id": "9fd6f20b-6d4b-4a48-8f1a-3b90f3441805",
   "metadata": {},
   "outputs": [],
   "source": [
    "b = set()"
   ]
  },
  {
   "cell_type": "code",
   "execution_count": 4,
   "id": "19e664fa-e049-45f5-a64b-a80c71df8618",
   "metadata": {},
   "outputs": [
    {
     "data": {
      "text/plain": [
       "set"
      ]
     },
     "execution_count": 4,
     "metadata": {},
     "output_type": "execute_result"
    }
   ],
   "source": [
    "type(b)"
   ]
  },
  {
   "cell_type": "code",
   "execution_count": 5,
   "id": "898d807f-aa95-470a-9df9-c3a9fe368fc3",
   "metadata": {},
   "outputs": [],
   "source": [
    "s = {3, 4, 4, 2, 1, 5, 6}"
   ]
  },
  {
   "cell_type": "code",
   "execution_count": 6,
   "id": "ae975fd4-adc5-42d1-be70-fc0db5369564",
   "metadata": {},
   "outputs": [
    {
     "data": {
      "text/plain": [
       "{1, 2, 3, 4, 5, 6}"
      ]
     },
     "execution_count": 6,
     "metadata": {},
     "output_type": "execute_result"
    }
   ],
   "source": [
    "s"
   ]
  },
  {
   "cell_type": "code",
   "execution_count": 7,
   "id": "a087ba70-63ef-4312-af68-b860fe858722",
   "metadata": {},
   "outputs": [
    {
     "name": "stdout",
     "output_type": "stream",
     "text": [
      "{1, 2, 3, 4, 5}\n"
     ]
    }
   ],
   "source": [
    "# Creating a set from a list\n",
    "unique_numbers = set([1, 2, 2, 3, 4, 4, 5])\n",
    "print(unique_numbers)  # {1, 2, 3, 4, 5}"
   ]
  },
  {
   "cell_type": "code",
   "execution_count": 8,
   "id": "4c7de129-4d40-4cce-b2c9-b0e426b5952c",
   "metadata": {},
   "outputs": [],
   "source": [
    "s.add(23)"
   ]
  },
  {
   "cell_type": "code",
   "execution_count": 9,
   "id": "0f1809ea-180f-4549-9c7d-fbe232ef0b88",
   "metadata": {},
   "outputs": [
    {
     "data": {
      "text/plain": [
       "{1, 2, 3, 4, 5, 6, 23}"
      ]
     },
     "execution_count": 9,
     "metadata": {},
     "output_type": "execute_result"
    }
   ],
   "source": [
    "s"
   ]
  },
  {
   "cell_type": "code",
   "execution_count": 10,
   "id": "89f8bffa-c8f0-4b6e-88a5-85bb1aca573c",
   "metadata": {},
   "outputs": [],
   "source": [
    "s.remove(23)"
   ]
  },
  {
   "cell_type": "code",
   "execution_count": 11,
   "id": "7c3703f7-dc1a-46f4-a800-f8db7fca9c22",
   "metadata": {},
   "outputs": [
    {
     "data": {
      "text/plain": [
       "{1, 2, 3, 4, 5, 6}"
      ]
     },
     "execution_count": 11,
     "metadata": {},
     "output_type": "execute_result"
    }
   ],
   "source": [
    "s"
   ]
  },
  {
   "cell_type": "code",
   "execution_count": 12,
   "id": "b17b72af-3df5-4c01-b703-709cc990f26f",
   "metadata": {},
   "outputs": [
    {
     "data": {
      "text/plain": [
       "1"
      ]
     },
     "execution_count": 12,
     "metadata": {},
     "output_type": "execute_result"
    }
   ],
   "source": [
    "s.pop()"
   ]
  },
  {
   "cell_type": "code",
   "execution_count": 13,
   "id": "d0cf66e2-b27c-4c4a-aff9-78b24fddc647",
   "metadata": {},
   "outputs": [
    {
     "data": {
      "text/plain": [
       "{2, 3, 4, 5, 6}"
      ]
     },
     "execution_count": 13,
     "metadata": {},
     "output_type": "execute_result"
    }
   ],
   "source": [
    "s"
   ]
  },
  {
   "cell_type": "code",
   "execution_count": 29,
   "id": "19916855-4c7e-44ee-b5f7-bc91206810ee",
   "metadata": {},
   "outputs": [],
   "source": [
    "set1 = {1, 2, 3, 4}\n",
    "set2 = {3, 4, 5, 6}"
   ]
  },
  {
   "cell_type": "code",
   "execution_count": 31,
   "id": "fd904ee1-2afe-4f51-b25c-a5199ee4e7ac",
   "metadata": {},
   "outputs": [
    {
     "name": "stdout",
     "output_type": "stream",
     "text": [
      "{1, 2, 3, 4, 5, 6}\n"
     ]
    }
   ],
   "source": [
    "# Union\n",
    "print(set1 | set2)  # {1, 2, 3, 4, 5, 6}"
   ]
  },
  {
   "cell_type": "code",
   "execution_count": 33,
   "id": "ea44cd58-ff56-404b-9c48-348bd2ddd45a",
   "metadata": {},
   "outputs": [
    {
     "name": "stdout",
     "output_type": "stream",
     "text": [
      "{3, 4}\n"
     ]
    }
   ],
   "source": [
    "# Intersection\n",
    "print(set1 & set2)  # {3, 4}"
   ]
  },
  {
   "cell_type": "code",
   "execution_count": 35,
   "id": "85d34d82-72cf-4934-9445-7f8a12c0685c",
   "metadata": {},
   "outputs": [
    {
     "name": "stdout",
     "output_type": "stream",
     "text": [
      "{1, 2}\n"
     ]
    }
   ],
   "source": [
    "# Difference\n",
    "print(set1 - set2)  # {1, 2}"
   ]
  },
  {
   "cell_type": "code",
   "execution_count": 37,
   "id": "91e3e646-aff0-42e2-84ec-efdf0ccdd6d3",
   "metadata": {},
   "outputs": [
    {
     "name": "stdout",
     "output_type": "stream",
     "text": [
      "{1, 2, 5, 6}\n"
     ]
    }
   ],
   "source": [
    "# Symmetric Difference\n",
    "print(set1 ^ set2)  # {1, 2, 5, 6}"
   ]
  },
  {
   "cell_type": "code",
   "execution_count": 39,
   "id": "4d52a289-874c-4948-a6a0-0234fdb7d738",
   "metadata": {},
   "outputs": [],
   "source": [
    "sub = {1, 3}"
   ]
  },
  {
   "cell_type": "code",
   "execution_count": 43,
   "id": "80671136-c40c-41ff-80c7-ebf3f96c2540",
   "metadata": {},
   "outputs": [
    {
     "data": {
      "text/plain": [
       "True"
      ]
     },
     "execution_count": 43,
     "metadata": {},
     "output_type": "execute_result"
    }
   ],
   "source": [
    "sub.issubset(set1)"
   ]
  },
  {
   "cell_type": "code",
   "execution_count": 45,
   "id": "18485be5-a8d3-4474-a08c-bd30228f3c56",
   "metadata": {},
   "outputs": [
    {
     "data": {
      "text/plain": [
       "False"
      ]
     },
     "execution_count": 45,
     "metadata": {},
     "output_type": "execute_result"
    }
   ],
   "source": [
    "sub.issuperset(set2)"
   ]
  },
  {
   "cell_type": "code",
   "execution_count": 47,
   "id": "b3511c56-3897-4bed-9b7b-9407479f37f7",
   "metadata": {},
   "outputs": [
    {
     "data": {
      "text/plain": [
       "True"
      ]
     },
     "execution_count": 47,
     "metadata": {},
     "output_type": "execute_result"
    }
   ],
   "source": [
    "set1.issuperset(sub)"
   ]
  },
  {
   "cell_type": "code",
   "execution_count": null,
   "id": "4d1f1568-4bf6-437f-990f-ee154d8e7e33",
   "metadata": {},
   "outputs": [],
   "source": []
  }
 ],
 "metadata": {
  "kernelspec": {
   "display_name": "Python [conda env:base] *",
   "language": "python",
   "name": "conda-base-py"
  },
  "language_info": {
   "codemirror_mode": {
    "name": "ipython",
    "version": 3
   },
   "file_extension": ".py",
   "mimetype": "text/x-python",
   "name": "python",
   "nbconvert_exporter": "python",
   "pygments_lexer": "ipython3",
   "version": "3.12.7"
  }
 },
 "nbformat": 4,
 "nbformat_minor": 5
}
