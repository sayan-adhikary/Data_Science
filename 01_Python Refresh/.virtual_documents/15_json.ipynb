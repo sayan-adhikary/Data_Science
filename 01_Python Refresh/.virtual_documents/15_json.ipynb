import json


 obj = {"name": "Alice", "company": "IBM", "salary": 45000}
s = json.dumps(obj)
type(s)
print(s)



