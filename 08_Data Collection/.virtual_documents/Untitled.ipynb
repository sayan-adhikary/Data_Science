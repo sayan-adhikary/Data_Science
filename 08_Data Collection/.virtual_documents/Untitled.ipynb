


from bs4 import BeautifulSoup


with open("htmls/page1.html") as f:
    content = f.read()


soup = BeautifulSoup(content, "html.parser")


h3s = soup.find_all("h3")


h3s


for h3 in h3s:
    print(h3.find("a")['title'])


articles = soup.select("article.product_pod")


items = [] 
for article in articles:
    title = article.find("h3").find("a")["title"]
    price = article.select_one("p.price_color").text.split("£")[1]
    # print(price)
    items.append([title,price])


items


import pandas as pd


df = pd.DataFrame(items,columns=["Books Name", "Price"])


df



