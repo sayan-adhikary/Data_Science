{
 "cells": [
  {
   "cell_type": "code",
   "execution_count": 1,
   "id": "82558815-fec4-42f8-ac83-c0e2859fa9af",
   "metadata": {},
   "outputs": [],
   "source": [
    "name = \"Sayan\""
   ]
  },
  {
   "cell_type": "code",
   "execution_count": 2,
   "id": "c3bf7b75-e82e-4725-b874-5a8ba8f893d3",
   "metadata": {},
   "outputs": [
    {
     "data": {
      "text/plain": [
       "'Sayan'"
      ]
     },
     "execution_count": 2,
     "metadata": {},
     "output_type": "execute_result"
    }
   ],
   "source": [
    "name"
   ]
  },
  {
   "cell_type": "code",
   "execution_count": 3,
   "id": "d0c98d80-3b03-4efd-803e-a47bd936da25",
   "metadata": {},
   "outputs": [
    {
     "data": {
      "text/plain": [
       "'SAYAN'"
      ]
     },
     "execution_count": 3,
     "metadata": {},
     "output_type": "execute_result"
    }
   ],
   "source": [
    "name.upper()"
   ]
  },
  {
   "cell_type": "code",
   "execution_count": 4,
   "id": "0665a2d8-6e29-46ef-b0ed-d303f1a14707",
   "metadata": {},
   "outputs": [
    {
     "data": {
      "text/plain": [
       "False"
      ]
     },
     "execution_count": 4,
     "metadata": {},
     "output_type": "execute_result"
    }
   ],
   "source": [
    "name.endswith(\"ON\")"
   ]
  },
  {
   "cell_type": "code",
   "execution_count": 5,
   "id": "cb1c9b89-9cf8-4356-ab3e-6cbdfadd9a79",
   "metadata": {},
   "outputs": [
    {
     "data": {
      "text/plain": [
       "True"
      ]
     },
     "execution_count": 5,
     "metadata": {},
     "output_type": "execute_result"
    }
   ],
   "source": [
    "name.endswith(\"an\")"
   ]
  },
  {
   "cell_type": "code",
   "execution_count": 6,
   "id": "ce023130-0863-40c9-8207-6e3c0e7a5fb2",
   "metadata": {},
   "outputs": [
    {
     "data": {
      "text/plain": [
       "False"
      ]
     },
     "execution_count": 6,
     "metadata": {},
     "output_type": "execute_result"
    }
   ],
   "source": [
    "name.endswith(\"sayan\")"
   ]
  },
  {
   "cell_type": "code",
   "execution_count": 7,
   "id": "f796271f-0463-4e73-9841-d9c73bfe1a19",
   "metadata": {},
   "outputs": [
    {
     "data": {
      "text/plain": [
       "2"
      ]
     },
     "execution_count": 7,
     "metadata": {},
     "output_type": "execute_result"
    }
   ],
   "source": [
    "name.count(\"a\")"
   ]
  },
  {
   "cell_type": "code",
   "execution_count": 8,
   "id": "4d076012-7e35-4169-ae84-5b31259b9ab8",
   "metadata": {},
   "outputs": [
    {
     "data": {
      "text/plain": [
       "5"
      ]
     },
     "execution_count": 8,
     "metadata": {},
     "output_type": "execute_result"
    }
   ],
   "source": [
    "len(name)"
   ]
  },
  {
   "cell_type": "code",
   "execution_count": 9,
   "id": "988c9f06-56b6-4a56-91b6-b7c0e5a5ef82",
   "metadata": {},
   "outputs": [
    {
     "data": {
      "text/plain": [
       "'Sayan'"
      ]
     },
     "execution_count": 9,
     "metadata": {},
     "output_type": "execute_result"
    }
   ],
   "source": [
    "name.strip() #space removing"
   ]
  },
  {
   "cell_type": "code",
   "execution_count": 10,
   "id": "1a0dd0a8-5e52-4a65-9d78-096d31c07842",
   "metadata": {},
   "outputs": [
    {
     "data": {
      "text/plain": [
       "'sayan'"
      ]
     },
     "execution_count": 10,
     "metadata": {},
     "output_type": "execute_result"
    }
   ],
   "source": [
    "name.lower()"
   ]
  },
  {
   "cell_type": "code",
   "execution_count": 11,
   "id": "05ff8d92-d7ee-4257-ad7f-3da52a54ef46",
   "metadata": {},
   "outputs": [],
   "source": [
    "s = \"Sayan,Supratim,Subhra\""
   ]
  },
  {
   "cell_type": "code",
   "execution_count": 12,
   "id": "e092a583-af3b-4be2-8113-e0cd8125de85",
   "metadata": {},
   "outputs": [
    {
     "data": {
      "text/plain": [
       "['Sayan', 'Supratim', 'Subhra']"
      ]
     },
     "execution_count": 12,
     "metadata": {},
     "output_type": "execute_result"
    }
   ],
   "source": [
    "s.split(\",\")"
   ]
  },
  {
   "cell_type": "code",
   "execution_count": 13,
   "id": "0c7be7d4-21c8-4ef9-976a-e3895a102c34",
   "metadata": {},
   "outputs": [
    {
     "data": {
      "text/plain": [
       "'S a y a n , S u p r a t i m , S u b h r a'"
      ]
     },
     "execution_count": 13,
     "metadata": {},
     "output_type": "execute_result"
    }
   ],
   "source": [
    "\" \".join(s)"
   ]
  },
  {
   "cell_type": "code",
   "execution_count": 14,
   "id": "166a8ead-834a-4c5b-b4a4-fb173d1bffe1",
   "metadata": {},
   "outputs": [
    {
     "data": {
      "text/plain": [
       "'Sayan,Supratim,Subhra'"
      ]
     },
     "execution_count": 14,
     "metadata": {},
     "output_type": "execute_result"
    }
   ],
   "source": [
    "\"\".join(s)"
   ]
  },
  {
   "cell_type": "code",
   "execution_count": 15,
   "id": "e121a7c2-864f-4aec-99b2-dfe5e0df1152",
   "metadata": {},
   "outputs": [
    {
     "data": {
      "text/plain": [
       "'Sayan'"
      ]
     },
     "execution_count": 15,
     "metadata": {},
     "output_type": "execute_result"
    }
   ],
   "source": [
    "s [0:5]"
   ]
  },
  {
   "cell_type": "code",
   "execution_count": 16,
   "id": "ad24045d-0738-4d0e-8370-510d58745e6c",
   "metadata": {},
   "outputs": [
    {
     "data": {
      "text/plain": [
       "'Sayan,'"
      ]
     },
     "execution_count": 16,
     "metadata": {},
     "output_type": "execute_result"
    }
   ],
   "source": [
    "s[0:6]"
   ]
  },
  {
   "cell_type": "code",
   "execution_count": 17,
   "id": "6e607117-711a-42a8-9c26-36b3ab6c5bdb",
   "metadata": {},
   "outputs": [
    {
     "data": {
      "text/plain": [
       "'ya'"
      ]
     },
     "execution_count": 17,
     "metadata": {},
     "output_type": "execute_result"
    }
   ],
   "source": [
    "s[2:4]"
   ]
  },
  {
   "cell_type": "code",
   "execution_count": 18,
   "id": "af85a91d-124a-4c77-8616-466e62a9a58d",
   "metadata": {},
   "outputs": [],
   "source": [
    "k = \"Hello World\""
   ]
  },
  {
   "cell_type": "code",
   "execution_count": 19,
   "id": "6caff4b1-69fb-4fd3-af77-5cdd4718f4fb",
   "metadata": {},
   "outputs": [
    {
     "data": {
      "text/plain": [
       "'Hello World'"
      ]
     },
     "execution_count": 19,
     "metadata": {},
     "output_type": "execute_result"
    }
   ],
   "source": [
    "k"
   ]
  },
  {
   "cell_type": "code",
   "execution_count": 20,
   "id": "33827794-27a4-4027-86f6-bc8c82de0dfb",
   "metadata": {},
   "outputs": [
    {
     "data": {
      "text/plain": [
       "'Hello World'"
      ]
     },
     "execution_count": 20,
     "metadata": {},
     "output_type": "execute_result"
    }
   ],
   "source": [
    "k"
   ]
  },
  {
   "cell_type": "code",
   "execution_count": 21,
   "id": "e63f8e40-3d89-4531-bd39-926b748a1413",
   "metadata": {},
   "outputs": [
    {
     "data": {
      "text/plain": [
       "'e'"
      ]
     },
     "execution_count": 21,
     "metadata": {},
     "output_type": "execute_result"
    }
   ],
   "source": [
    "k[1]"
   ]
  },
  {
   "cell_type": "code",
   "execution_count": 22,
   "id": "0206398a-f4e5-4e14-9778-0e3c575873c4",
   "metadata": {},
   "outputs": [
    {
     "data": {
      "text/plain": [
       "'o'"
      ]
     },
     "execution_count": 22,
     "metadata": {},
     "output_type": "execute_result"
    }
   ],
   "source": [
    "k[4]"
   ]
  },
  {
   "cell_type": "code",
   "execution_count": 23,
   "id": "d3df860a-6f48-4025-bf12-932c4b934bca",
   "metadata": {},
   "outputs": [
    {
     "data": {
      "text/plain": [
       "'d'"
      ]
     },
     "execution_count": 23,
     "metadata": {},
     "output_type": "execute_result"
    }
   ],
   "source": [
    "k[10]"
   ]
  },
  {
   "cell_type": "code",
   "execution_count": 24,
   "id": "018c0403-de3e-4e33-bc51-5595d7df7d42",
   "metadata": {},
   "outputs": [
    {
     "ename": "IndexError",
     "evalue": "string index out of range",
     "output_type": "error",
     "traceback": [
      "\u001b[1;31m---------------------------------------------------------------------------\u001b[0m",
      "\u001b[1;31mIndexError\u001b[0m                                Traceback (most recent call last)",
      "Cell \u001b[1;32mIn[24], line 1\u001b[0m\n\u001b[1;32m----> 1\u001b[0m k[\u001b[38;5;241m11\u001b[39m]\n",
      "\u001b[1;31mIndexError\u001b[0m: string index out of range"
     ]
    }
   ],
   "source": [
    "k[11]"
   ]
  },
  {
   "cell_type": "code",
   "execution_count": null,
   "id": "3569b939-465e-4480-bd2f-e38e9e2bc874",
   "metadata": {},
   "outputs": [],
   "source": [
    "k[10]"
   ]
  },
  {
   "cell_type": "code",
   "execution_count": null,
   "id": "23c81de6-1f53-4876-8329-fb7f04bbb54e",
   "metadata": {},
   "outputs": [],
   "source": [
    "a=5"
   ]
  },
  {
   "cell_type": "code",
   "execution_count": null,
   "id": "5a2e0e65-9745-47b0-96f3-13c6af3ed637",
   "metadata": {},
   "outputs": [],
   "source": [
    "b=6"
   ]
  },
  {
   "cell_type": "code",
   "execution_count": null,
   "id": "314f63aa-c2ed-4dd6-898a-820f0b8eb757",
   "metadata": {},
   "outputs": [],
   "source": [
    "a+b"
   ]
  },
  {
   "cell_type": "code",
   "execution_count": null,
   "id": "79f4de88-d0c3-465d-b244-a8669affc25d",
   "metadata": {},
   "outputs": [],
   "source": [
    "a/b"
   ]
  },
  {
   "cell_type": "code",
   "execution_count": null,
   "id": "f5ba4eb7-e8eb-4dfe-8ca5-763bf6243f72",
   "metadata": {},
   "outputs": [],
   "source": [
    "a//b"
   ]
  },
  {
   "cell_type": "code",
   "execution_count": null,
   "id": "5a153fc8-c75f-4b08-b715-0b0e4edad496",
   "metadata": {},
   "outputs": [],
   "source": [
    "b = 10"
   ]
  },
  {
   "cell_type": "code",
   "execution_count": 25,
   "id": "33b5d102-95b7-43ce-8884-16856085f660",
   "metadata": {},
   "outputs": [
    {
     "name": "stdout",
     "output_type": "stream",
     "text": [
      "11\n"
     ]
    }
   ],
   "source": [
    "print(len(k))"
   ]
  },
  {
   "cell_type": "code",
   "execution_count": 29,
   "id": "d7df961b-6670-4874-a4ed-8cc767f75195",
   "metadata": {},
   "outputs": [
    {
     "data": {
      "text/plain": [
       "'Hello Worl'"
      ]
     },
     "execution_count": 29,
     "metadata": {},
     "output_type": "execute_result"
    }
   ],
   "source": [
    "k[0:-1]"
   ]
  },
  {
   "cell_type": "code",
   "execution_count": 33,
   "id": "43ec5933-6f3c-4962-8a15-56e73bb9e1ce",
   "metadata": {},
   "outputs": [
    {
     "data": {
      "text/plain": [
       "''"
      ]
     },
     "execution_count": 33,
     "metadata": {},
     "output_type": "execute_result"
    }
   ],
   "source": [
    "k[0:-0]"
   ]
  },
  {
   "cell_type": "code",
   "execution_count": 35,
   "id": "89e3f350-3545-4635-9410-505ea126cc6e",
   "metadata": {},
   "outputs": [
    {
     "data": {
      "text/plain": [
       "'Hello Worl'"
      ]
     },
     "execution_count": 35,
     "metadata": {},
     "output_type": "execute_result"
    }
   ],
   "source": [
    "k[-11:-1]"
   ]
  },
  {
   "cell_type": "code",
   "execution_count": 37,
   "id": "723bd0d4-6e36-47c3-969c-4e3ba96bdab8",
   "metadata": {},
   "outputs": [
    {
     "data": {
      "text/plain": [
       "'ello World'"
      ]
     },
     "execution_count": 37,
     "metadata": {},
     "output_type": "execute_result"
    }
   ],
   "source": [
    "k[1:12]"
   ]
  },
  {
   "cell_type": "code",
   "execution_count": null,
   "id": "d5413413-9aae-4742-a27c-57a92feb1926",
   "metadata": {},
   "outputs": [],
   "source": []
  }
 ],
 "metadata": {
  "kernelspec": {
   "display_name": "Python [conda env:base] *",
   "language": "python",
   "name": "conda-base-py"
  },
  "language_info": {
   "codemirror_mode": {
    "name": "ipython",
    "version": 3
   },
   "file_extension": ".py",
   "mimetype": "text/x-python",
   "name": "python",
   "nbconvert_exporter": "python",
   "pygments_lexer": "ipython3",
   "version": "3.12.7"
  }
 },
 "nbformat": 4,
 "nbformat_minor": 5
}
