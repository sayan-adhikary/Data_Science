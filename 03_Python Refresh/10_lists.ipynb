{
 "cells": [
  {
   "cell_type": "code",
   "execution_count": 1,
   "id": "48512753-a198-4a57-9e03-21fd0f29d2a1",
   "metadata": {},
   "outputs": [],
   "source": [
    "l = [3, 4, 5, 7]"
   ]
  },
  {
   "cell_type": "code",
   "execution_count": 2,
   "id": "39513f12-ba50-4662-85fb-d7f8efc7a6d3",
   "metadata": {},
   "outputs": [
    {
     "data": {
      "text/plain": [
       "3"
      ]
     },
     "execution_count": 2,
     "metadata": {},
     "output_type": "execute_result"
    }
   ],
   "source": [
    "l[0]"
   ]
  },
  {
   "cell_type": "code",
   "execution_count": 3,
   "id": "0eed4fc9-62ff-45aa-afe7-d19b1ed3f7a6",
   "metadata": {},
   "outputs": [
    {
     "data": {
      "text/plain": [
       "[3, 4, 5, 7]"
      ]
     },
     "execution_count": 3,
     "metadata": {},
     "output_type": "execute_result"
    }
   ],
   "source": [
    "l"
   ]
  },
  {
   "cell_type": "code",
   "execution_count": 4,
   "id": "c6ed9af1-dffd-4e29-bef7-608ae1bc24f6",
   "metadata": {},
   "outputs": [],
   "source": [
    "l.append(8)"
   ]
  },
  {
   "cell_type": "code",
   "execution_count": 5,
   "id": "44794ebf-6f66-4515-ba23-088385b1c122",
   "metadata": {},
   "outputs": [
    {
     "data": {
      "text/plain": [
       "[3, 4, 5, 7, 8]"
      ]
     },
     "execution_count": 5,
     "metadata": {},
     "output_type": "execute_result"
    }
   ],
   "source": [
    "l"
   ]
  },
  {
   "cell_type": "code",
   "execution_count": 6,
   "id": "98f1069a-bf32-4827-93fd-407dca278e8e",
   "metadata": {},
   "outputs": [],
   "source": [
    "l2 = [6, 9]"
   ]
  },
  {
   "cell_type": "code",
   "execution_count": 7,
   "id": "1d487814-bf2b-49ee-8ff4-51a31eb2ac61",
   "metadata": {},
   "outputs": [],
   "source": [
    "l.extend(l2)"
   ]
  },
  {
   "cell_type": "code",
   "execution_count": 8,
   "id": "19893a10-5e42-4de2-adaa-74e105fd5944",
   "metadata": {},
   "outputs": [
    {
     "data": {
      "text/plain": [
       "[3, 4, 5, 7, 8, 6, 9]"
      ]
     },
     "execution_count": 8,
     "metadata": {},
     "output_type": "execute_result"
    }
   ],
   "source": [
    "l"
   ]
  },
  {
   "cell_type": "code",
   "execution_count": 9,
   "id": "1bc1cbfe-0416-446e-9b29-130886f7b85a",
   "metadata": {},
   "outputs": [],
   "source": [
    "l.insert(1, 100)"
   ]
  },
  {
   "cell_type": "code",
   "execution_count": 10,
   "id": "ebeabfb7-f7d4-4a9e-9371-23b6082f2a2b",
   "metadata": {},
   "outputs": [
    {
     "data": {
      "text/plain": [
       "[3, 100, 4, 5, 7, 8, 6, 9]"
      ]
     },
     "execution_count": 10,
     "metadata": {},
     "output_type": "execute_result"
    }
   ],
   "source": [
    "l"
   ]
  },
  {
   "cell_type": "code",
   "execution_count": 11,
   "id": "b446c53f-5272-424f-8d04-3db68926c122",
   "metadata": {},
   "outputs": [],
   "source": [
    "number = l.pop(4)"
   ]
  },
  {
   "cell_type": "code",
   "execution_count": 12,
   "id": "bede1d8c-cd1d-4080-af7f-542903d7cf16",
   "metadata": {},
   "outputs": [
    {
     "data": {
      "text/plain": [
       "7"
      ]
     },
     "execution_count": 12,
     "metadata": {},
     "output_type": "execute_result"
    }
   ],
   "source": [
    "number"
   ]
  },
  {
   "cell_type": "code",
   "execution_count": 13,
   "id": "352eb11a-32ba-4a19-b34e-27bccb4bd8c2",
   "metadata": {},
   "outputs": [
    {
     "data": {
      "text/plain": [
       "[3, 100, 4, 5, 8, 6, 9]"
      ]
     },
     "execution_count": 13,
     "metadata": {},
     "output_type": "execute_result"
    }
   ],
   "source": [
    "l"
   ]
  },
  {
   "cell_type": "code",
   "execution_count": 14,
   "id": "0489c733-5447-4e84-96ce-d32601cd46ea",
   "metadata": {},
   "outputs": [
    {
     "data": {
      "text/plain": [
       "6"
      ]
     },
     "execution_count": 14,
     "metadata": {},
     "output_type": "execute_result"
    }
   ],
   "source": [
    "l.index(9)"
   ]
  },
  {
   "cell_type": "code",
   "execution_count": 15,
   "id": "8d7db962-5eb9-430c-8159-108e93c4be21",
   "metadata": {},
   "outputs": [
    {
     "data": {
      "text/plain": [
       "5"
      ]
     },
     "execution_count": 15,
     "metadata": {},
     "output_type": "execute_result"
    }
   ],
   "source": [
    "l.index(6)"
   ]
  },
  {
   "cell_type": "code",
   "execution_count": 16,
   "id": "d5d1c140-6f3d-46da-a478-f9bcb1868ec7",
   "metadata": {},
   "outputs": [
    {
     "data": {
      "text/plain": [
       "1"
      ]
     },
     "execution_count": 16,
     "metadata": {},
     "output_type": "execute_result"
    }
   ],
   "source": [
    "l.count(100)"
   ]
  },
  {
   "cell_type": "code",
   "execution_count": 17,
   "id": "bfb1bd0a-43dc-4d06-b5b6-fcd80c82df55",
   "metadata": {},
   "outputs": [],
   "source": [
    "l.append(9)"
   ]
  },
  {
   "cell_type": "code",
   "execution_count": 18,
   "id": "62cdb86d-4d56-4bd1-81f4-7f919d37f397",
   "metadata": {},
   "outputs": [
    {
     "data": {
      "text/plain": [
       "2"
      ]
     },
     "execution_count": 18,
     "metadata": {},
     "output_type": "execute_result"
    }
   ],
   "source": [
    "l.count(9)"
   ]
  },
  {
   "cell_type": "code",
   "execution_count": 19,
   "id": "beae548d-a7b5-4126-8ed1-28435cdb1319",
   "metadata": {},
   "outputs": [],
   "source": [
    "l.sort()"
   ]
  },
  {
   "cell_type": "code",
   "execution_count": 20,
   "id": "4e28207b-e3bd-413c-b424-818acb5b4da6",
   "metadata": {},
   "outputs": [
    {
     "data": {
      "text/plain": [
       "[3, 4, 5, 6, 8, 9, 9, 100]"
      ]
     },
     "execution_count": 20,
     "metadata": {},
     "output_type": "execute_result"
    }
   ],
   "source": [
    "l"
   ]
  },
  {
   "cell_type": "code",
   "execution_count": 21,
   "id": "ef11e825-02e9-4a47-9fb3-caeb71c24411",
   "metadata": {},
   "outputs": [],
   "source": [
    "newl = [3, 5, 1, 2, 100, 55]"
   ]
  },
  {
   "cell_type": "code",
   "execution_count": 22,
   "id": "7b0155b8-8495-4cf1-b6da-e14d2d2c680d",
   "metadata": {},
   "outputs": [
    {
     "data": {
      "text/plain": [
       "[3, 5, 1, 2, 100, 55]"
      ]
     },
     "execution_count": 22,
     "metadata": {},
     "output_type": "execute_result"
    }
   ],
   "source": [
    "newl"
   ]
  },
  {
   "cell_type": "code",
   "execution_count": 23,
   "id": "5ca575be-37a9-4608-af6f-ac4b96782102",
   "metadata": {},
   "outputs": [
    {
     "data": {
      "text/plain": [
       "[1, 2, 3, 5, 55, 100]"
      ]
     },
     "execution_count": 23,
     "metadata": {},
     "output_type": "execute_result"
    }
   ],
   "source": [
    "sorted(newl)"
   ]
  },
  {
   "cell_type": "code",
   "execution_count": 24,
   "id": "8a413a89-0099-4b75-8aa7-f09a6d98d33f",
   "metadata": {},
   "outputs": [
    {
     "data": {
      "text/plain": [
       "[3, 5, 1, 2, 100, 55]"
      ]
     },
     "execution_count": 24,
     "metadata": {},
     "output_type": "execute_result"
    }
   ],
   "source": [
    "newl"
   ]
  },
  {
   "cell_type": "code",
   "execution_count": 25,
   "id": "e65532ac-f730-4b14-b2c1-6bfb2d3ad772",
   "metadata": {},
   "outputs": [],
   "source": [
    "y = [12, 21, 22,[1,2,3,4],True,False]"
   ]
  },
  {
   "cell_type": "code",
   "execution_count": 26,
   "id": "f51d2bcb-71d8-43de-aa2a-53b2c6d88897",
   "metadata": {},
   "outputs": [
    {
     "data": {
      "text/plain": [
       "2"
      ]
     },
     "execution_count": 26,
     "metadata": {},
     "output_type": "execute_result"
    }
   ],
   "source": [
    "y.index(22)"
   ]
  },
  {
   "cell_type": "code",
   "execution_count": 27,
   "id": "44880b7f-723e-45c0-9c12-057b2f0e3ca0",
   "metadata": {},
   "outputs": [
    {
     "data": {
      "text/plain": [
       "[1, 2, 3, 4]"
      ]
     },
     "execution_count": 27,
     "metadata": {},
     "output_type": "execute_result"
    }
   ],
   "source": [
    "y[3]"
   ]
  },
  {
   "cell_type": "code",
   "execution_count": 28,
   "id": "a4d2a75d-4db5-44a6-995e-3225a28887ef",
   "metadata": {},
   "outputs": [
    {
     "data": {
      "text/plain": [
       "3"
      ]
     },
     "execution_count": 28,
     "metadata": {},
     "output_type": "execute_result"
    }
   ],
   "source": [
    "y[3][2]"
   ]
  },
  {
   "cell_type": "code",
   "execution_count": 29,
   "id": "5af33099-b0b3-43c7-b831-bb0d54ae1aa7",
   "metadata": {},
   "outputs": [],
   "source": [
    "list1 = [32, 33, 42, 45]\n",
    "list2 = [1, 2, 3, 4]"
   ]
  },
  {
   "cell_type": "code",
   "execution_count": 30,
   "id": "e69dc6eb-a2c4-4fde-a067-e06acf83fa9b",
   "metadata": {},
   "outputs": [
    {
     "data": {
      "text/plain": [
       "[32, 33, 42, 45, 1, 2, 3, 4]"
      ]
     },
     "execution_count": 30,
     "metadata": {},
     "output_type": "execute_result"
    }
   ],
   "source": [
    "list1 + list2"
   ]
  },
  {
   "cell_type": "code",
   "execution_count": 31,
   "id": "421cfe08-51b1-42e3-9bdb-064c67e5dd90",
   "metadata": {},
   "outputs": [
    {
     "data": {
      "text/plain": [
       "[32, 33, 42, 45]"
      ]
     },
     "execution_count": 31,
     "metadata": {},
     "output_type": "execute_result"
    }
   ],
   "source": [
    "list1"
   ]
  },
  {
   "cell_type": "code",
   "execution_count": 32,
   "id": "5bd6f3a1-dc23-4600-b815-5d2bcf5068ac",
   "metadata": {},
   "outputs": [
    {
     "data": {
      "text/plain": [
       "[1, 2, 3, 4]"
      ]
     },
     "execution_count": 32,
     "metadata": {},
     "output_type": "execute_result"
    }
   ],
   "source": [
    "list2"
   ]
  },
  {
   "cell_type": "code",
   "execution_count": 33,
   "id": "d001cde8-bd37-4974-b744-32d580e953da",
   "metadata": {},
   "outputs": [
    {
     "name": "stdout",
     "output_type": "stream",
     "text": [
      "Yes\n"
     ]
    }
   ],
   "source": [
    "if  3 in list2:\n",
    "    print(\"Yes\")"
   ]
  },
  {
   "cell_type": "code",
   "execution_count": 34,
   "id": "ff533fb6-62fa-491a-b3f5-0a3476202ae6",
   "metadata": {},
   "outputs": [],
   "source": [
    "if 33 in list2:\n",
    "    print(\"Yes\")"
   ]
  },
  {
   "cell_type": "code",
   "execution_count": 35,
   "id": "b170ed4c-9437-47f8-91bc-449745b09913",
   "metadata": {},
   "outputs": [
    {
     "data": {
      "text/plain": [
       "True"
      ]
     },
     "execution_count": 35,
     "metadata": {},
     "output_type": "execute_result"
    }
   ],
   "source": [
    "3 in list2"
   ]
  },
  {
   "cell_type": "code",
   "execution_count": 36,
   "id": "469b4188-1b8a-4322-8286-78d31def8e6c",
   "metadata": {},
   "outputs": [],
   "source": [
    "s = \"sayan_adhikary_papu_sayan_adhikary_Sayan_Papu\""
   ]
  },
  {
   "cell_type": "code",
   "execution_count": 37,
   "id": "fe2ae22c-d0be-4fd0-a9e6-11dc483c6b78",
   "metadata": {},
   "outputs": [
    {
     "data": {
      "text/plain": [
       "['sayan', 'adhikary', 'papu', 'sayan', 'adhikary', 'Sayan', 'Papu']"
      ]
     },
     "execution_count": 37,
     "metadata": {},
     "output_type": "execute_result"
    }
   ],
   "source": [
    "s.split(\"_\")"
   ]
  },
  {
   "cell_type": "code",
   "execution_count": null,
   "id": "ab5ca95f-0f59-4f32-9020-3bdaee130bf6",
   "metadata": {},
   "outputs": [],
   "source": []
  }
 ],
 "metadata": {
  "kernelspec": {
   "display_name": "Python [conda env:base] *",
   "language": "python",
   "name": "conda-base-py"
  },
  "language_info": {
   "codemirror_mode": {
    "name": "ipython",
    "version": 3
   },
   "file_extension": ".py",
   "mimetype": "text/x-python",
   "name": "python",
   "nbconvert_exporter": "python",
   "pygments_lexer": "ipython3",
   "version": "3.12.7"
  }
 },
 "nbformat": 4,
 "nbformat_minor": 5
}
