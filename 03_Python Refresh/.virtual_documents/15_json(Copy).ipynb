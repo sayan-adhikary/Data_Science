


import json


obj = {"name": "Alice", "company": "IBM", "salary": 45000}
s = json.dumps(obj)
type(s)
print(s)


d = json.loads('{"name": "Alice", "company": "IBM", "salary": 45000}')


type(d)


file = open("data.json", "w")


json.dump(obj, file)


file.close()
