{
 "cells": [
  {
   "cell_type": "code",
   "execution_count": 2,
   "id": "36720ec8-d2d9-404e-aef1-10c82ce131b3",
   "metadata": {},
   "outputs": [],
   "source": [
    "import pandas as pd"
   ]
  },
  {
   "cell_type": "code",
   "execution_count": 16,
   "id": "7e270237-dfed-4f5e-83a2-7492d39fda8b",
   "metadata": {},
   "outputs": [],
   "source": [
    "s1 = pd.Series([71, 84, 93, 77, 63, 92,88])"
   ]
  },
  {
   "cell_type": "code",
   "execution_count": 18,
   "id": "7570fe2d-b48a-4af7-8a31-908d864ce391",
   "metadata": {},
   "outputs": [
    {
     "name": "stdout",
     "output_type": "stream",
     "text": [
      "0    71\n",
      "1    84\n",
      "2    93\n",
      "3    77\n",
      "4    63\n",
      "5    92\n",
      "6    88\n",
      "dtype: int64\n"
     ]
    }
   ],
   "source": [
    "print(s1)"
   ]
  },
  {
   "cell_type": "code",
   "execution_count": 20,
   "id": "73038cd7-6eda-4bbe-816b-b4bcbdae2ff6",
   "metadata": {},
   "outputs": [],
   "source": [
    "s2 = pd.Series([71, 84, 93, 77, 63, 92,88], index = [\"sayan\", \"Papu\", \"Sourav\", \"Lal\", \"Anurag\", \"Ritu\", \"SUraj\"])"
   ]
  },
  {
   "cell_type": "code",
   "execution_count": 22,
   "id": "ce347361-61e4-47f3-9939-6d625e74311f",
   "metadata": {},
   "outputs": [
    {
     "data": {
      "text/plain": [
       "sayan     71\n",
       "Papu      84\n",
       "Sourav    93\n",
       "Lal       77\n",
       "Anurag    63\n",
       "Ritu      92\n",
       "SUraj     88\n",
       "dtype: int64"
      ]
     },
     "execution_count": 22,
     "metadata": {},
     "output_type": "execute_result"
    }
   ],
   "source": [
    "s2"
   ]
  },
  {
   "cell_type": "code",
   "execution_count": null,
   "id": "bb2867e0-3a28-4e97-8ecb-e18e03275942",
   "metadata": {},
   "outputs": [],
   "source": []
  }
 ],
 "metadata": {
  "kernelspec": {
   "display_name": "Python [conda env:base] *",
   "language": "python",
   "name": "conda-base-py"
  },
  "language_info": {
   "codemirror_mode": {
    "name": "ipython",
    "version": 3
   },
   "file_extension": ".py",
   "mimetype": "text/x-python",
   "name": "python",
   "nbconvert_exporter": "python",
   "pygments_lexer": "ipython3",
   "version": "3.12.7"
  }
 },
 "nbformat": 4,
 "nbformat_minor": 5
}
