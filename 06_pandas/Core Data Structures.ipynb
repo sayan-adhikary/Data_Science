{
 "cells": [
  {
   "cell_type": "code",
   "execution_count": 2,
   "id": "36720ec8-d2d9-404e-aef1-10c82ce131b3",
   "metadata": {},
   "outputs": [],
   "source": [
    "import pandas as pd"
   ]
  },
  {
   "cell_type": "code",
   "execution_count": 16,
   "id": "7e270237-dfed-4f5e-83a2-7492d39fda8b",
   "metadata": {},
   "outputs": [],
   "source": [
    "s1 = pd.Series([71, 84, 93, 77, 63, 92,88])"
   ]
  },
  {
   "cell_type": "code",
   "execution_count": 18,
   "id": "7570fe2d-b48a-4af7-8a31-908d864ce391",
   "metadata": {},
   "outputs": [
    {
     "name": "stdout",
     "output_type": "stream",
     "text": [
      "0    71\n",
      "1    84\n",
      "2    93\n",
      "3    77\n",
      "4    63\n",
      "5    92\n",
      "6    88\n",
      "dtype: int64\n"
     ]
    }
   ],
   "source": [
    "print(s1)"
   ]
  },
  {
   "cell_type": "code",
   "execution_count": 27,
   "id": "73038cd7-6eda-4bbe-816b-b4bcbdae2ff6",
   "metadata": {},
   "outputs": [],
   "source": [
    "s2 = pd.Series([71, 84, 93, 77, 63, 92,88], index = [\"Sayan\", \"Papu\", \"Sourav\", \"Lal\", \"Anurag\", \"Ritu\", \"SUraj\"])"
   ]
  },
  {
   "cell_type": "code",
   "execution_count": 29,
   "id": "ce347361-61e4-47f3-9939-6d625e74311f",
   "metadata": {},
   "outputs": [
    {
     "data": {
      "text/plain": [
       "Sayan     71\n",
       "Papu      84\n",
       "Sourav    93\n",
       "Lal       77\n",
       "Anurag    63\n",
       "Ritu      92\n",
       "SUraj     88\n",
       "dtype: int64"
      ]
     },
     "execution_count": 29,
     "metadata": {},
     "output_type": "execute_result"
    }
   ],
   "source": [
    "s2"
   ]
  },
  {
   "cell_type": "code",
   "execution_count": 31,
   "id": "bb2867e0-3a28-4e97-8ecb-e18e03275942",
   "metadata": {},
   "outputs": [
    {
     "data": {
      "text/plain": [
       "71"
      ]
     },
     "execution_count": 31,
     "metadata": {},
     "output_type": "execute_result"
    }
   ],
   "source": [
    "s2[\"Sayan\"]"
   ]
  },
  {
   "cell_type": "markdown",
   "id": "30d4b640-82e9-4b10-9996-d844f1e5c440",
   "metadata": {},
   "source": [
    "## DataFrame — 2D Labeled Table"
   ]
  },
  {
   "cell_type": "code",
   "execution_count": 40,
   "id": "361ba9ae-68de-4661-be2d-d519e9b3b97d",
   "metadata": {},
   "outputs": [
    {
     "name": "stdout",
     "output_type": "stream",
     "text": [
      "      name  age       city\n",
      "0    Alice   25      Delhi\n",
      "1      Bob   30     Mumbai\n",
      "2  Charlie   35  Bangalore\n"
     ]
    }
   ],
   "source": [
    "data = {\n",
    "    \"name\": [\"Alice\", \"Bob\", \"Charlie\"],\n",
    "    \"age\": [25, 30, 35],\n",
    "    \"city\": [\"Delhi\", \"Mumbai\", \"Bangalore\"]\n",
    "}\n",
    "\n",
    "df = pd.DataFrame(data)\n",
    "print(df)"
   ]
  },
  {
   "cell_type": "code",
   "execution_count": 44,
   "id": "75030010-2754-49be-8d7f-0c5d98e8996e",
   "metadata": {},
   "outputs": [
    {
     "data": {
      "text/plain": [
       "RangeIndex(start=0, stop=3, step=1)"
      ]
     },
     "execution_count": 44,
     "metadata": {},
     "output_type": "execute_result"
    }
   ],
   "source": [
    "df.index         # Row labels"
   ]
  },
  {
   "cell_type": "code",
   "execution_count": 46,
   "id": "280c5b94-186e-484b-bbfa-c16ef47870db",
   "metadata": {},
   "outputs": [
    {
     "data": {
      "text/plain": [
       "Index(['name', 'age', 'city'], dtype='object')"
      ]
     },
     "execution_count": 46,
     "metadata": {},
     "output_type": "execute_result"
    }
   ],
   "source": [
    "df.columns       # Column labels"
   ]
  },
  {
   "cell_type": "code",
   "execution_count": 50,
   "id": "b2221060-2784-4c63-ae5f-10763a18d9d2",
   "metadata": {},
   "outputs": [],
   "source": [
    "df.index = [\"a\", \"b\", \"c\"]"
   ]
  },
  {
   "cell_type": "code",
   "execution_count": 52,
   "id": "40ec696f-905f-4448-8332-17a0f7eca00b",
   "metadata": {},
   "outputs": [],
   "source": [
    "df.columns = [\"Name\", \"Age\", \"City\"]"
   ]
  }
 ],
 "metadata": {
  "kernelspec": {
   "display_name": "Python [conda env:base] *",
   "language": "python",
   "name": "conda-base-py"
  },
  "language_info": {
   "codemirror_mode": {
    "name": "ipython",
    "version": 3
   },
   "file_extension": ".py",
   "mimetype": "text/x-python",
   "name": "python",
   "nbconvert_exporter": "python",
   "pygments_lexer": "ipython3",
   "version": "3.12.7"
  }
 },
 "nbformat": 4,
 "nbformat_minor": 5
}
