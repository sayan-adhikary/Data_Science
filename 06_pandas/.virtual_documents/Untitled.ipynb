import pandas as pd


df = pd.read_csv("data.csv")


df


df = df[df['IMDb'] > 6.0]


df


df.to_csv("data_updated.csv", index=False)


df = pd.read_json("my_json.json")


df


df.info()


data = [
{"id" : 1, "Name": "Sayan", "Address": {"city": "Arambagh", "Zipcode": "712413"}},
{"id" : 2, "Name": "Saurav", "Address": {"city": "Patna", "Zipcode": "123456"}}
]


df = pd.json_normalize(data)


df


df.info



