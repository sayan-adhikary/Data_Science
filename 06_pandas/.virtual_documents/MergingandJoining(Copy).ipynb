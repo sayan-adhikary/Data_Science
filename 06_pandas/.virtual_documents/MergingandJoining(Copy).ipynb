


employees = pd.DataFrame({
    "EmpID": [1, 2, 3],
    "Name": ["Alice", "Bob", "Charlie"],
    "DeptID": [10, 20, 30]
})


employees


departments = pd.DataFrame({
    "DeptID": [10, 20, 40],
    "DeptName": ["HR", "Engineering", "Marketing"]
})


departments


pd.merge(employees, departments, on="DeptID") # Inner Join


pd.merge(employees, departments, on="DeptID", how="left") # Left Join


pd.merge(employees, departments, on="DeptID", how="right") # Right Join


pd.merge(employees, departments, on="DeptID", how="outer") # Outer Join


df1 = pd.DataFrame({"Name": ["Alice", "Bob"], "score": [423, 634]})
df2 = pd.DataFrame({"Name": ["Charlie", "David"], "age": [45, 78]})


df1


df2


pd.concat([df1, df2])


pd.concat([df1, df2], axis=1)



