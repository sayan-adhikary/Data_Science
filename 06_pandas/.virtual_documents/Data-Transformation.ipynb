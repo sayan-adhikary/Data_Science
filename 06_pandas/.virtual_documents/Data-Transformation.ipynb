import pandas as pd


df = pd.read_csv('data.csv')


df


df.sort_values("Year")                   # Ascending sort


df.sort_values("Year", ascending=False)  # Descending


df.sort_values(["Year", "IMDb"])       # Sort by multiple columns


df2 = df.sort_values(["Year", "IMDb"]).copy


df.reset_index()


df2


df2.reset_index(drop=True, inplace=True)  # Reset the index and drop the old index


df2


df.sort_index()


df2["Rank"] = df2["IMDb"].rank()                 # Default: average method


df2


df2["Rank"] = df2["IMDb"].rank(method="dense")   # 1, 2, 2, 3


df2



