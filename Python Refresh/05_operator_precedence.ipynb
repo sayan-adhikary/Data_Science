{
 "cells": [
  {
   "cell_type": "code",
   "execution_count": 1,
   "id": "bd130ca2-8e96-4947-b221-2267936e46b6",
   "metadata": {},
   "outputs": [
    {
     "name": "stdout",
     "output_type": "stream",
     "text": [
      "16\n",
      "36\n",
      "512\n"
     ]
    }
   ],
   "source": [
    "result = 10 + 2 * 3  # Multiplication happens first: 10 + (2 * 3) = 16\n",
    "print(result)\n",
    "\n",
    "result = (10 + 2) * 3  # Parentheses first: (10 + 2) * 3 = 36\n",
    "print(result)\n",
    "\n",
    "result = 2 ** 3 ** 2  # Right-to-left exponentiation: 2 ** (3 ** 2) = 2 ** 9 = 512\n",
    "print(result)"
   ]
  },
  {
   "cell_type": "code",
   "execution_count": null,
   "id": "cc0db530-7886-4d4d-9f1e-d6b6d2adf020",
   "metadata": {},
   "outputs": [],
   "source": []
  }
 ],
 "metadata": {
  "kernelspec": {
   "display_name": "Python [conda env:base] *",
   "language": "python",
   "name": "conda-base-py"
  },
  "language_info": {
   "codemirror_mode": {
    "name": "ipython",
    "version": 3
   },
   "file_extension": ".py",
   "mimetype": "text/x-python",
   "name": "python",
   "nbconvert_exporter": "python",
   "pygments_lexer": "ipython3",
   "version": "3.12.7"
  }
 },
 "nbformat": 4,
 "nbformat_minor": 5
}
