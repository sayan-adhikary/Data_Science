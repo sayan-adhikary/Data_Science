{
 "cells": [
  {
   "cell_type": "code",
   "execution_count": 1,
   "id": "74406cf5-3470-4d0f-a59e-c6d90ec73d79",
   "metadata": {},
   "outputs": [
    {
     "name": "stdin",
     "output_type": "stream",
     "text": [
      "Enter the value of a 3\n"
     ]
    }
   ],
   "source": [
    "a = input(\"Enter the value of a\")"
   ]
  },
  {
   "cell_type": "code",
   "execution_count": 3,
   "id": "10ba76bc-f61b-4189-a87f-206f9b787940",
   "metadata": {},
   "outputs": [
    {
     "name": "stdin",
     "output_type": "stream",
     "text": [
      "Enetr the value of b 10\n"
     ]
    }
   ],
   "source": [
    "b = input(\"Enetr the value of b\")"
   ]
  },
  {
   "cell_type": "code",
   "execution_count": 5,
   "id": "c9aa85c0-d3dd-4f86-aca7-c1a401ed9dcb",
   "metadata": {},
   "outputs": [
    {
     "data": {
      "text/plain": [
       "'310'"
      ]
     },
     "execution_count": 5,
     "metadata": {},
     "output_type": "execute_result"
    }
   ],
   "source": [
    "a + b"
   ]
  },
  {
   "cell_type": "code",
   "execution_count": 7,
   "id": "56f05556-7626-4444-9f89-5a5208253d55",
   "metadata": {},
   "outputs": [
    {
     "data": {
      "text/plain": [
       "13"
      ]
     },
     "execution_count": 7,
     "metadata": {},
     "output_type": "execute_result"
    }
   ],
   "source": [
    "int(a) + int(b)"
   ]
  },
  {
   "cell_type": "code",
   "execution_count": 9,
   "id": "155b99b9-d7ed-4178-9310-622854045d42",
   "metadata": {},
   "outputs": [
    {
     "name": "stdin",
     "output_type": "stream",
     "text": [
      " 34\n"
     ]
    }
   ],
   "source": [
    "c = input()"
   ]
  },
  {
   "cell_type": "code",
   "execution_count": 11,
   "id": "9dd228d7-96a2-4bc9-b016-5d8362823eb4",
   "metadata": {},
   "outputs": [
    {
     "data": {
      "text/plain": [
       "'34'"
      ]
     },
     "execution_count": 11,
     "metadata": {},
     "output_type": "execute_result"
    }
   ],
   "source": [
    "c"
   ]
  },
  {
   "cell_type": "code",
   "execution_count": 13,
   "id": "a55b40a1-e152-4f46-af89-0b8bb771271f",
   "metadata": {},
   "outputs": [
    {
     "name": "stdin",
     "output_type": "stream",
     "text": [
      "Enter your name:  Sayan\n"
     ]
    },
    {
     "name": "stdout",
     "output_type": "stream",
     "text": [
      "Hello Sayan\n"
     ]
    }
   ],
   "source": [
    "name = input(\"Enter your name: \")\n",
    "print(\"Hello\", name)"
   ]
  },
  {
   "cell_type": "code",
   "execution_count": 15,
   "id": "df00af14-e7c2-4cd8-899c-7334e9c10ee2",
   "metadata": {},
   "outputs": [
    {
     "name": "stdin",
     "output_type": "stream",
     "text": [
      "Enter your age:  22\n",
      "Enter the price:  1200000000\n"
     ]
    }
   ],
   "source": [
    "age = int(input(\"Enter your age: \"))\n",
    "price = float(input(\"Enter the price: \"))"
   ]
  },
  {
   "cell_type": "code",
   "execution_count": null,
   "id": "7f98e0c4-35f1-4ffc-9323-d41747a21fd4",
   "metadata": {},
   "outputs": [],
   "source": []
  }
 ],
 "metadata": {
  "kernelspec": {
   "display_name": "Python [conda env:base] *",
   "language": "python",
   "name": "conda-base-py"
  },
  "language_info": {
   "codemirror_mode": {
    "name": "ipython",
    "version": 3
   },
   "file_extension": ".py",
   "mimetype": "text/x-python",
   "name": "python",
   "nbconvert_exporter": "python",
   "pygments_lexer": "ipython3",
   "version": "3.12.7"
  }
 },
 "nbformat": 4,
 "nbformat_minor": 5
}
