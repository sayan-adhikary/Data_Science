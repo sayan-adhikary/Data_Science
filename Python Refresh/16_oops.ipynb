{
 "cells": [
  {
   "cell_type": "code",
   "execution_count": 1,
   "id": "d950fb52-f2b7-4c11-aee4-3f8876452203",
   "metadata": {},
   "outputs": [
    {
     "name": "stdout",
     "output_type": "stream",
     "text": [
      "The company of Sayan is HP with salary $234567\n"
     ]
    }
   ],
   "source": [
    "class Employee:\n",
    "    company = \"HP\"\n",
    "    def __init__(self, name, salary):\n",
    "        self.name = name\n",
    "        self.salary = salary\n",
    "\n",
    "    def printDetails(self):\n",
    "        print(f\"The company of {self.name} is {self.company} with salary ${self.salary}\")\n",
    "\n",
    "e = Employee(\"Sayan\", 234567)\n",
    "e.printDetails()"
   ]
  },
  {
   "cell_type": "code",
   "execution_count": 5,
   "id": "bf31350a-f6c9-4898-b75f-349bbff39c0c",
   "metadata": {},
   "outputs": [
    {
     "name": "stdout",
     "output_type": "stream",
     "text": [
      "The company of Harry is HP with salary $47000\n",
      "The time is now\n",
      "The company is HP\n"
     ]
    }
   ],
   "source": [
    "class Employee:\n",
    "    company = \"HP\"\n",
    "    def __init__(self, name, salary):\n",
    "        self.name = name\n",
    "        self.salary = salary\n",
    "        \n",
    "    def printDetails(self):\n",
    "        print(f\"The company of {self.name} is {self.company} with salary ${self.salary}\")\n",
    "        \n",
    "    @staticmethod\n",
    "    def printTime():\n",
    "        print(f\"The time is now\")\n",
    "\n",
    "    @classmethod\n",
    "    def printClassDetails(cls):\n",
    "        print(f\"The company is {cls.company}\")\n",
    "        \n",
    "\n",
    "e = Employee(\"Harry\", 47000)\n",
    "e.printDetails()\n",
    "e.printTime()\n",
    "e.printClassDetails()"
   ]
  },
  {
   "cell_type": "code",
   "execution_count": null,
   "id": "2c88d80a-a021-4250-968c-ce64276344db",
   "metadata": {},
   "outputs": [],
   "source": []
  }
 ],
 "metadata": {
  "kernelspec": {
   "display_name": "Python [conda env:base] *",
   "language": "python",
   "name": "conda-base-py"
  },
  "language_info": {
   "codemirror_mode": {
    "name": "ipython",
    "version": 3
   },
   "file_extension": ".py",
   "mimetype": "text/x-python",
   "name": "python",
   "nbconvert_exporter": "python",
   "pygments_lexer": "ipython3",
   "version": "3.12.7"
  }
 },
 "nbformat": 4,
 "nbformat_minor": 5
}
