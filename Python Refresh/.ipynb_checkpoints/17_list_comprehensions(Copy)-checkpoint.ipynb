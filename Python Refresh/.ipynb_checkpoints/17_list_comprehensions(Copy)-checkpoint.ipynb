{
 "cells": [
  {
   "cell_type": "code",
   "execution_count": 2,
   "id": "74529bdb-159c-4a34-876d-611499f67aac",
   "metadata": {},
   "outputs": [],
   "source": [
    "table = []"
   ]
  },
  {
   "cell_type": "code",
   "execution_count": 5,
   "id": "fd8b1dd1-63e1-46cb-865e-67c09017e8c8",
   "metadata": {},
   "outputs": [
    {
     "name": "stdout",
     "output_type": "stream",
     "text": [
      "2 X 1 = 2\n",
      "2 X 2 = 4\n",
      "2 X 3 = 6\n",
      "2 X 4 = 8\n",
      "2 X 5 = 10\n",
      "2 X 6 = 12\n",
      "2 X 7 = 14\n",
      "2 X 8 = 16\n",
      "2 X 9 = 18\n",
      "2 X 10 = 20\n"
     ]
    }
   ],
   "source": [
    "for i in range(1, 11):\n",
    "    print(f\"2 X {i} = {2*i}\")\n",
    "    table.append(2*i)"
   ]
  },
  {
   "cell_type": "code",
   "execution_count": 7,
   "id": "8502adcc-f735-4c92-a741-611313d3f2fc",
   "metadata": {},
   "outputs": [
    {
     "data": {
      "text/plain": [
       "[2, 4, 6, 8, 10, 12, 14, 16, 18, 20]"
      ]
     },
     "execution_count": 7,
     "metadata": {},
     "output_type": "execute_result"
    }
   ],
   "source": [
    "table"
   ]
  },
  {
   "cell_type": "code",
   "execution_count": 10,
   "id": "9808c4c1-bb70-4bdf-806b-c9c03e458054",
   "metadata": {},
   "outputs": [],
   "source": [
    "t = [2*i for i in range(1, 11)]"
   ]
  },
  {
   "cell_type": "code",
   "execution_count": 12,
   "id": "44780891-7e62-49ec-b0d2-a5326d8c46a0",
   "metadata": {},
   "outputs": [
    {
     "data": {
      "text/plain": [
       "[2, 4, 6, 8, 10, 12, 14, 16, 18, 20]"
      ]
     },
     "execution_count": 12,
     "metadata": {},
     "output_type": "execute_result"
    }
   ],
   "source": [
    "t"
   ]
  },
  {
   "cell_type": "code",
   "execution_count": 15,
   "id": "2260d70c-727f-47f7-a67a-6b8043c9f4fe",
   "metadata": {},
   "outputs": [],
   "source": [
    "t = [2*i for i in range(1, 11) if i%2==0]"
   ]
  },
  {
   "cell_type": "code",
   "execution_count": 17,
   "id": "be7daabf-f9ca-4417-a2de-26b338c28ab2",
   "metadata": {},
   "outputs": [
    {
     "data": {
      "text/plain": [
       "[4, 8, 12, 16, 20]"
      ]
     },
     "execution_count": 17,
     "metadata": {},
     "output_type": "execute_result"
    }
   ],
   "source": [
    "t"
   ]
  },
  {
   "cell_type": "code",
   "execution_count": 24,
   "id": "d8bdc971-7941-4a6a-a4ba-675909bfc5fa",
   "metadata": {},
   "outputs": [],
   "source": [
    "l = [3*i for i in range(1,11) if i%3==0]"
   ]
  },
  {
   "cell_type": "code",
   "execution_count": 26,
   "id": "35e5dd76-2143-48a4-bb0e-e4e0f5ede074",
   "metadata": {},
   "outputs": [
    {
     "data": {
      "text/plain": [
       "[9, 18, 27]"
      ]
     },
     "execution_count": 26,
     "metadata": {},
     "output_type": "execute_result"
    }
   ],
   "source": [
    "l"
   ]
  }
 ],
 "metadata": {
  "kernelspec": {
   "display_name": "Python [conda env:base] *",
   "language": "python",
   "name": "conda-base-py"
  },
  "language_info": {
   "codemirror_mode": {
    "name": "ipython",
    "version": 3
   },
   "file_extension": ".py",
   "mimetype": "text/x-python",
   "name": "python",
   "nbconvert_exporter": "python",
   "pygments_lexer": "ipython3",
   "version": "3.12.7"
  }
 },
 "nbformat": 4,
 "nbformat_minor": 5
}
