{
 "cells": [
  {
   "cell_type": "code",
   "execution_count": 1,
   "id": "a3542d60-0953-42da-b392-981441fc6915",
   "metadata": {},
   "outputs": [],
   "source": [
    "f = open(\"text.txt\", \"r\")"
   ]
  },
  {
   "cell_type": "code",
   "execution_count": 7,
   "id": "a1cb0d96-fa8e-4c77-a611-31720a86beaa",
   "metadata": {},
   "outputs": [
    {
     "data": {
      "text/plain": [
       "'Sayan Adhikary\\nBE CSE\\nSathyabama University'"
      ]
     },
     "execution_count": 7,
     "metadata": {},
     "output_type": "execute_result"
    }
   ],
   "source": [
    "f.read()"
   ]
  },
  {
   "cell_type": "code",
   "execution_count": 9,
   "id": "d5efe250-b40b-45ff-bc63-fe79290a6b85",
   "metadata": {},
   "outputs": [],
   "source": [
    "s = \"I am completed by graduation from Sathyabama University\""
   ]
  },
  {
   "cell_type": "code",
   "execution_count": 11,
   "id": "63108830-9cf6-4158-a7ab-92eee207a12a",
   "metadata": {},
   "outputs": [],
   "source": [
    "f.close()"
   ]
  },
  {
   "cell_type": "code",
   "execution_count": 13,
   "id": "e2da7f85-6993-4b47-ac80-50d1418a3ac7",
   "metadata": {},
   "outputs": [],
   "source": [
    "f = open(\"sayan.txt\", \"w\")"
   ]
  },
  {
   "cell_type": "code",
   "execution_count": 15,
   "id": "9e6ffedc-e9b2-444c-93eb-f041bc985832",
   "metadata": {},
   "outputs": [
    {
     "data": {
      "text/plain": [
       "55"
      ]
     },
     "execution_count": 15,
     "metadata": {},
     "output_type": "execute_result"
    }
   ],
   "source": [
    "f.write(s)"
   ]
  },
  {
   "cell_type": "code",
   "execution_count": 19,
   "id": "516e646a-1f06-48e5-a050-d7f0f90b86c0",
   "metadata": {},
   "outputs": [],
   "source": [
    "f.close()"
   ]
  },
  {
   "cell_type": "code",
   "execution_count": 24,
   "id": "a64fdde4-0656-4ec1-90be-b0d92cff3760",
   "metadata": {},
   "outputs": [],
   "source": [
    "f = open(\"text.txt\", \"w\")"
   ]
  },
  {
   "cell_type": "code",
   "execution_count": 26,
   "id": "85b77c0d-6903-4d02-bf97-0f9e7ffe7a11",
   "metadata": {},
   "outputs": [
    {
     "data": {
      "text/plain": [
       "55"
      ]
     },
     "execution_count": 26,
     "metadata": {},
     "output_type": "execute_result"
    }
   ],
   "source": [
    "f.write(s)"
   ]
  },
  {
   "cell_type": "code",
   "execution_count": 29,
   "id": "67cfd055-90d8-49f0-b129-fcbe2da3da53",
   "metadata": {},
   "outputs": [],
   "source": [
    "f.close()"
   ]
  },
  {
   "cell_type": "code",
   "execution_count": null,
   "id": "31f97391-0491-49e8-95c4-726b96912930",
   "metadata": {},
   "outputs": [],
   "source": []
  }
 ],
 "metadata": {
  "kernelspec": {
   "display_name": "Python [conda env:base] *",
   "language": "python",
   "name": "conda-base-py"
  },
  "language_info": {
   "codemirror_mode": {
    "name": "ipython",
    "version": 3
   },
   "file_extension": ".py",
   "mimetype": "text/x-python",
   "name": "python",
   "nbconvert_exporter": "python",
   "pygments_lexer": "ipython3",
   "version": "3.12.7"
  }
 },
 "nbformat": 4,
 "nbformat_minor": 5
}
