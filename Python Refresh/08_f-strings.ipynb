{
 "cells": [
  {
   "cell_type": "code",
   "execution_count": 1,
   "id": "da647a16-a25b-4d25-8ad3-3d5abcb0d9c6",
   "metadata": {},
   "outputs": [],
   "source": [
    "s = 'Sayan'"
   ]
  },
  {
   "cell_type": "code",
   "execution_count": 2,
   "id": "5d1260e8-e185-4eaa-a792-052b308a917c",
   "metadata": {},
   "outputs": [
    {
     "data": {
      "text/plain": [
       "'SAYAN'"
      ]
     },
     "execution_count": 2,
     "metadata": {},
     "output_type": "execute_result"
    }
   ],
   "source": [
    "s.upper()"
   ]
  },
  {
   "cell_type": "code",
   "execution_count": 3,
   "id": "7df87fb3-c47b-4820-aee6-e1d6e93ac92a",
   "metadata": {},
   "outputs": [
    {
     "name": "stdout",
     "output_type": "stream",
     "text": [
      "My name is Alice and I am 25 years old.\n"
     ]
    }
   ],
   "source": [
    " name = \"Alice\"\n",
    "age = 25\n",
    "print(\"My name is {} and I am {} years old.\".format(name, age))\n",
    "# Output: My name is Alice and I am 25 years old."
   ]
  },
  {
   "cell_type": "code",
   "execution_count": 4,
   "id": "197a1a65-e1b4-4a1b-a508-52ebc9a9eee4",
   "metadata": {},
   "outputs": [
    {
     "name": "stdout",
     "output_type": "stream",
     "text": [
      "Alice is learning Python\n",
      "Alice is learning Python\n"
     ]
    }
   ],
   "source": [
    "print(\"{0} is learning {1}\".format(\"Alice\", \"Python\"))  # Using positions\n",
    "print(\"{name} is learning {language}\".format(name=\"Alice\", language=\"Python\"))"
   ]
  },
  {
   "cell_type": "code",
   "execution_count": 5,
   "id": "8816b3b4-52b1-4369-8313-33c59c2f2cf5",
   "metadata": {},
   "outputs": [
    {
     "name": "stdout",
     "output_type": "stream",
     "text": [
      "My name is Alice and I am 25 years old.\n"
     ]
    }
   ],
   "source": [
    "name = \"Alice\"\n",
    "age = 25\n",
    "print(f\"My name is {name} and I am {age} years old.\")\n",
    "# Output: My name is Alice and I am 25 years old."
   ]
  },
  {
   "cell_type": "code",
   "execution_count": 6,
   "id": "a1f061d9-b36e-44f4-9f20-b76dc06459c4",
   "metadata": {},
   "outputs": [
    {
     "name": "stdout",
     "output_type": "stream",
     "text": [
      "Sum of 5 and 10 is 15\n"
     ]
    }
   ],
   "source": [
    "a = 5\n",
    "b = 10\n",
    "print(f\"Sum of {a} and {b} is {a + b}\")\n",
    "# Output: Sum of 5 and 10 is 15"
   ]
  },
  {
   "cell_type": "code",
   "execution_count": 7,
   "id": "c68d5544-d0d9-4911-858d-cc01e224a3b5",
   "metadata": {},
   "outputs": [
    {
     "name": "stdout",
     "output_type": "stream",
     "text": [
      "Pi rounded to 2 decimal places: 3.14\n"
     ]
    }
   ],
   "source": [
    "pi = 3.14159\n",
    "print(f\"Pi rounded to 2 decimal places: {pi:.2f}\")\n",
    "# Output: Pi rounded to 2 decimal places: 3.14"
   ]
  },
  {
   "cell_type": "code",
   "execution_count": 8,
   "id": "154395e4-6a89-413c-bc9a-683ab812155e",
   "metadata": {},
   "outputs": [
    {
     "name": "stdout",
     "output_type": "stream",
     "text": [
      "Python    \n",
      "    Python\n",
      "  Python  \n"
     ]
    }
   ],
   "source": [
    "print(f\"{'Python':<10}\")  # Left-align\n",
    "print(f\"{'Python':>10}\")  # Right-align\n",
    "print(f\"{'Python':^10}\")  # Center-align"
   ]
  },
  {
   "cell_type": "code",
   "execution_count": null,
   "id": "0283621d-fe2f-419a-aac5-cf2b10fa0879",
   "metadata": {},
   "outputs": [],
   "source": []
  }
 ],
 "metadata": {
  "kernelspec": {
   "display_name": "Python [conda env:base] *",
   "language": "python",
   "name": "conda-base-py"
  },
  "language_info": {
   "codemirror_mode": {
    "name": "ipython",
    "version": 3
   },
   "file_extension": ".py",
   "mimetype": "text/x-python",
   "name": "python",
   "nbconvert_exporter": "python",
   "pygments_lexer": "ipython3",
   "version": "3.12.7"
  }
 },
 "nbformat": 4,
 "nbformat_minor": 5
}
