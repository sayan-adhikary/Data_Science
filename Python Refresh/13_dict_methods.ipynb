{
 "cells": [
  {
   "cell_type": "code",
   "execution_count": 3,
   "id": "c37e60f5-bfb4-43ad-928d-509d6dd5b9b7",
   "metadata": {},
   "outputs": [],
   "source": [
    "d = {}"
   ]
  },
  {
   "cell_type": "code",
   "execution_count": 5,
   "id": "6f6fe7d3-df9c-4bc7-8744-65db191d0e7c",
   "metadata": {},
   "outputs": [
    {
     "data": {
      "text/plain": [
       "dict"
      ]
     },
     "execution_count": 5,
     "metadata": {},
     "output_type": "execute_result"
    }
   ],
   "source": [
    "type(d)"
   ]
  },
  {
   "cell_type": "code",
   "execution_count": 7,
   "id": "f7905fdd-9c8b-494c-af7f-7282d135fe5f",
   "metadata": {},
   "outputs": [],
   "source": [
    "student = {\n",
    "    \"name\": \"Alice\",\n",
    "    \"age\": 25,\n",
    "    \"grade\": \"A\"\n",
    "}"
   ]
  },
  {
   "cell_type": "code",
   "execution_count": 11,
   "id": "8f4d7d50-f649-4333-b448-c070de9db025",
   "metadata": {},
   "outputs": [
    {
     "data": {
      "text/plain": [
       "'Alice'"
      ]
     },
     "execution_count": 11,
     "metadata": {},
     "output_type": "execute_result"
    }
   ],
   "source": [
    "student[\"name\"]"
   ]
  },
  {
   "cell_type": "code",
   "execution_count": 13,
   "id": "3a44e902-a80d-4930-9308-71ff1f5096b2",
   "metadata": {},
   "outputs": [
    {
     "ename": "KeyError",
     "evalue": "'name2'",
     "output_type": "error",
     "traceback": [
      "\u001b[1;31m---------------------------------------------------------------------------\u001b[0m",
      "\u001b[1;31mKeyError\u001b[0m                                  Traceback (most recent call last)",
      "Cell \u001b[1;32mIn[13], line 1\u001b[0m\n\u001b[1;32m----> 1\u001b[0m student[\u001b[38;5;124m\"\u001b[39m\u001b[38;5;124mname2\u001b[39m\u001b[38;5;124m\"\u001b[39m]\n",
      "\u001b[1;31mKeyError\u001b[0m: 'name2'"
     ]
    }
   ],
   "source": [
    "student[\"name2\"]"
   ]
  },
  {
   "cell_type": "code",
   "execution_count": 28,
   "id": "fd0a8c00-29c5-4f38-a884-1f2e80e939b7",
   "metadata": {},
   "outputs": [],
   "source": [
    "r = student.get(\"name3\")"
   ]
  },
  {
   "cell_type": "code",
   "execution_count": 30,
   "id": "80b2d417-5fd0-4573-a576-396d83ec0b37",
   "metadata": {},
   "outputs": [],
   "source": [
    "r"
   ]
  },
  {
   "cell_type": "code",
   "execution_count": 32,
   "id": "ae52a652-1a5a-4e4f-9570-f5fd5dc517c2",
   "metadata": {},
   "outputs": [
    {
     "name": "stdout",
     "output_type": "stream",
     "text": [
      "None\n"
     ]
    }
   ],
   "source": [
    "print(r)"
   ]
  },
  {
   "cell_type": "code",
   "execution_count": null,
   "id": "3c8bd63c-3d43-40f3-a0e9-a4c0311a50de",
   "metadata": {},
   "outputs": [],
   "source": []
  }
 ],
 "metadata": {
  "kernelspec": {
   "display_name": "Python [conda env:base] *",
   "language": "python",
   "name": "conda-base-py"
  },
  "language_info": {
   "codemirror_mode": {
    "name": "ipython",
    "version": 3
   },
   "file_extension": ".py",
   "mimetype": "text/x-python",
   "name": "python",
   "nbconvert_exporter": "python",
   "pygments_lexer": "ipython3",
   "version": "3.12.7"
  }
 },
 "nbformat": 4,
 "nbformat_minor": 5
}
