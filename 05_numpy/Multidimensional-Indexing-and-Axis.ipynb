{
 "cells": [
  {
   "cell_type": "code",
   "execution_count": 1,
   "id": "a9338593-2f6d-4cd9-992b-1dfe015013e7",
   "metadata": {},
   "outputs": [],
   "source": [
    "import numpy as np"
   ]
  },
  {
   "cell_type": "code",
   "execution_count": 2,
   "id": "f2aa2e70-b658-4ce1-9002-4dd036ad1444",
   "metadata": {},
   "outputs": [
    {
     "name": "stdout",
     "output_type": "stream",
     "text": [
      "[[1 2 3]\n",
      " [4 5 6]\n",
      " [7 8 9]]\n"
     ]
    }
   ],
   "source": [
    "arr = np.array([[1, 2, 3], \n",
    "                [4, 5, 6], \n",
    "                [7, 8, 9]])\n",
    "\n",
    "print(arr)"
   ]
  },
  {
   "cell_type": "code",
   "execution_count": 3,
   "id": "2ffb6ecf-e10a-4a35-b7de-a77d0c4ab932",
   "metadata": {},
   "outputs": [
    {
     "name": "stdout",
     "output_type": "stream",
     "text": [
      "[12 15 18]\n",
      "[ 6 15 24]\n"
     ]
    }
   ],
   "source": [
    "print(np.sum(arr, axis=0))  # Sum along rows (down each column)\n",
    "print(np.sum(arr, axis=1))  # Sum along columns (across each row)"
   ]
  },
  {
   "cell_type": "code",
   "execution_count": 4,
   "id": "d91318d9-c0fc-4dc6-81f0-93104c712f6b",
   "metadata": {},
   "outputs": [
    {
     "name": "stdout",
     "output_type": "stream",
     "text": [
      "6\n"
     ]
    }
   ],
   "source": [
    "# Accessing an element\n",
    "print(arr[1, 2])  # Row index 1, Column index 2 → Output: 6"
   ]
  },
  {
   "cell_type": "code",
   "execution_count": 5,
   "id": "b79c76c7-c3bb-430c-935e-f83467d18b67",
   "metadata": {},
   "outputs": [
    {
     "name": "stdout",
     "output_type": "stream",
     "text": [
      "[[2 3]\n",
      " [5 6]]\n"
     ]
    }
   ],
   "source": [
    "print(arr[0:2, 1:3])  # Extracts first 2 rows and last 2 columns"
   ]
  },
  {
   "cell_type": "code",
   "execution_count": 6,
   "id": "81b7f522-a864-4ca0-aeb3-fede24d728a8",
   "metadata": {},
   "outputs": [
    {
     "name": "stdout",
     "output_type": "stream",
     "text": [
      "(2, 2, 3)\n"
     ]
    }
   ],
   "source": [
    "arr3D = np.array([[[1, 2, 3], [4, 5, 6]],\n",
    "                  [[7, 8, 9], [10, 11, 12]]])\n",
    "\n",
    "'''Sheet 0:    [[ 1, 2, 3], [ 4, 5, 6]]\n",
    "   Sheet 1:    [[ 7, 8, 9], [10, 11, 12]]'''\n",
    "# Output of arr3D.shape is → (depth, rows, columns)\n",
    "print(arr3D.shape)  # Output: (2, 2, 3) "
   ]
  },
  {
   "cell_type": "code",
   "execution_count": 7,
   "id": "eafcb122-9d83-46a3-804a-4dbe094b22aa",
   "metadata": {},
   "outputs": [
    {
     "name": "stdout",
     "output_type": "stream",
     "text": [
      "6\n",
      "[[1 2 3]\n",
      " [7 8 9]]\n"
     ]
    },
    {
     "data": {
      "text/plain": [
       "'\\n: → take all sheets (axis 0)\\n\\n0 → take first row from each sheet (axis 1)\\n\\n: → take all columns (axis 2)\\n    '"
      ]
     },
     "execution_count": 7,
     "metadata": {},
     "output_type": "execute_result"
    }
   ],
   "source": [
    "# First sheet, second row, third column\n",
    "print(arr3D[0, 1, 2])  # Output: 6 0th row 1th column 2nd element\n",
    "'''\n",
    "[[1, 2, 3],\n",
    " [4, 5, 6]]  ← we're in this sheet\n",
    "     ↑\n",
    "     Row 1: [4, 5, 6]\n",
    "                   ↑\n",
    "           Index 2 → 6\n",
    "\n",
    "'''\n",
    "\n",
    "print(arr3D[:, 0, :])   # Get the first row from both sheets\n",
    "'''\n",
    ": → take all sheets (axis 0)\n",
    "\n",
    "0 → take first row from each sheet (axis 1)\n",
    "\n",
    ": → take all columns (axis 2)\n",
    "    '''"
   ]
  },
  {
   "cell_type": "code",
   "execution_count": 8,
   "id": "abbd8c02-2ff7-4f8e-a77c-d7ab3977fee8",
   "metadata": {},
   "outputs": [
    {
     "name": "stdout",
     "output_type": "stream",
     "text": [
      "[1 4 7]\n"
     ]
    }
   ],
   "source": [
    "# Get all rows of the first column\n",
    "first_col = arr[:, 0]\n",
    "print(first_col)  # Output: [1 4 7]"
   ]
  },
  {
   "cell_type": "code",
   "execution_count": 9,
   "id": "37b38f7f-c1fa-4c2d-b3df-a85e9106f356",
   "metadata": {},
   "outputs": [],
   "source": [
    "arr3D[:, 0, :] = 0"
   ]
  },
  {
   "cell_type": "code",
   "execution_count": 10,
   "id": "9e6b8a8d-556f-45ad-b859-83c6e1f97aa2",
   "metadata": {
    "scrolled": true
   },
   "outputs": [
    {
     "name": "stdout",
     "output_type": "stream",
     "text": [
      "[[[ 0  0  0]\n",
      "  [ 4  5  6]]\n",
      "\n",
      " [[ 0  0  0]\n",
      "  [10 11 12]]]\n"
     ]
    }
   ],
   "source": [
    "print(arr3D)"
   ]
  },
  {
   "cell_type": "code",
   "execution_count": 11,
   "id": "1a3bed26-c6d3-4a56-8dfd-484324c074d5",
   "metadata": {},
   "outputs": [
    {
     "name": "stdout",
     "output_type": "stream",
     "text": [
      "[[0 0 0]\n",
      " [0 0 0]]\n"
     ]
    }
   ],
   "source": [
    "# Get the first row from each \"sheet\" in a 3D array\n",
    "first_rows = arr3D[:, 0, :] ## Output of arr3D.shape is → (depth, rows, columns)\n",
    "print(first_rows)"
   ]
  },
  {
   "cell_type": "code",
   "execution_count": 12,
   "id": "6dcade47-2bf3-436c-a678-b9550d4996b9",
   "metadata": {},
   "outputs": [
    {
     "name": "stdout",
     "output_type": "stream",
     "text": [
      "[[1 0 3]\n",
      " [4 0 6]\n",
      " [7 0 9]]\n"
     ]
    }
   ],
   "source": [
    "# Replace all elements in column 1 with 0\n",
    "arr[:, 1] = 0\n",
    "print(arr)"
   ]
  }
 ],
 "metadata": {
  "kernelspec": {
   "display_name": "Python [conda env:base] *",
   "language": "python",
   "name": "conda-base-py"
  },
  "language_info": {
   "codemirror_mode": {
    "name": "ipython",
    "version": 3
   },
   "file_extension": ".py",
   "mimetype": "text/x-python",
   "name": "python",
   "nbconvert_exporter": "python",
   "pygments_lexer": "ipython3",
   "version": "3.12.7"
  }
 },
 "nbformat": 4,
 "nbformat_minor": 5
}
