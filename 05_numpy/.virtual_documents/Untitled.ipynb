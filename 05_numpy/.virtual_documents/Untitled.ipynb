import numpy as np


arr = np.array([3, 5, 2, 33, 2, 1, 10, 1])
a = np.mean(arr)
print(a)


np.max(arr)


np.min(arr)


np.std(arr)


np.prod(arr)


np.sum(arr)


np.var(arr)


np.median(arr)


np.percentile(arr, 50)  # For the 50th percentile (median)


np.argmin(arr)


np.argmax(arr)


np.median(arr)


arr2 = np.array([3, 5, 2, 33, 2, 1, 10, 1])


np.corrcoef(arr, arr2)


np.diff(arr)


np.exp(arr)


np.log(arr)



