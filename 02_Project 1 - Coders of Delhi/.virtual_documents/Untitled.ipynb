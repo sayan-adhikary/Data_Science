import json


def load_data(filename):
    with open(filename, "r") as file:
        data = json.load(file)

    return data


data=load_data("data.json")


data


type (data)


def display_users(data):
    print("user and their connections: \n")
    for user in data["users"]:
        print(f"{user['name']} (ID: {user['id']}) - Friends: {user['friends']} - Linked Pages: {user['liked_pages']}")
    print("\nPages:\n")
    for page in data["pages"]:
            print(f"{page['id']}: {page['name']}")

display_users(data)



