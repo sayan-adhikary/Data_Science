from sklearn.tree import DecisionTreeClassifier


features= [[150, 0],
          [170, 0],
          [130, 1],
          [120, 1]]
lables = ["apples", "apples", "orange", "orange"]
clf =  DecisionTreeClassifier()
clf = clf.fit(features, lables)
prediction = clf.predict([[50, 1]])
print(f"The fruit is {prediction[0]}")


lables = ["apples", "apples", "orange", "orange"]


clf =  DecisionTreeClassifier()


clf = clf.fit(features, lables)


prediction = clf.predict([[50, 1]])


print(f"The fruit is {prediction[0]}")



