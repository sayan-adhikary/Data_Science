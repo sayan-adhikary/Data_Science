{
 "cells": [
  {
   "cell_type": "code",
   "execution_count": 2,
   "id": "6c9199a9-aa67-4d31-a40b-1075c85d2f55",
   "metadata": {},
   "outputs": [],
   "source": [
    "from sklearn.tree import DecisionTreeClassifier"
   ]
  },
  {
   "cell_type": "code",
   "execution_count": 19,
   "id": "b03e8be1-08cc-4769-bc08-4b5651df66b3",
   "metadata": {},
   "outputs": [
    {
     "name": "stdout",
     "output_type": "stream",
     "text": [
      "The fruit is orange\n"
     ]
    }
   ],
   "source": [
    "features= [[150, 0],\n",
    "          [170, 0],\n",
    "          [130, 1],\n",
    "          [120, 1]]\n",
    "lables = [\"apples\", \"apples\", \"orange\", \"orange\"]\n",
    "clf =  DecisionTreeClassifier()\n",
    "clf = clf.fit(features, lables)\n",
    "prediction = clf.predict([[50, 1]])\n",
    "print(f\"The fruit is {prediction[0]}\")"
   ]
  },
  {
   "cell_type": "code",
   "execution_count": 5,
   "id": "fe767787-a903-4161-8df3-6af64b583df7",
   "metadata": {},
   "outputs": [],
   "source": [
    "lables = [\"apples\", \"apples\", \"orange\", \"orange\"]"
   ]
  },
  {
   "cell_type": "code",
   "execution_count": 6,
   "id": "b508b5e5-5528-4b39-a01b-c7989675f345",
   "metadata": {},
   "outputs": [],
   "source": [
    "clf =  DecisionTreeClassifier()"
   ]
  },
  {
   "cell_type": "code",
   "execution_count": 7,
   "id": "4112c603-d7f0-4f0c-b904-ab48fe037102",
   "metadata": {},
   "outputs": [],
   "source": [
    "clf = clf.fit(features, lables)"
   ]
  },
  {
   "cell_type": "code",
   "execution_count": 17,
   "id": "49014dbd-144f-46a7-b83a-4d60f5256ed1",
   "metadata": {},
   "outputs": [],
   "source": [
    "prediction = clf.predict([[50, 1]])"
   ]
  },
  {
   "cell_type": "code",
   "execution_count": 18,
   "id": "04b7162d-b7f9-48ec-b6cf-06b83e6bde98",
   "metadata": {},
   "outputs": [
    {
     "name": "stdout",
     "output_type": "stream",
     "text": [
      "The fruit is orange\n"
     ]
    }
   ],
   "source": [
    "print(f\"The fruit is {prediction[0]}\")"
   ]
  },
  {
   "cell_type": "code",
   "execution_count": null,
   "id": "dd957516-0949-48df-a95b-b8d240f21598",
   "metadata": {},
   "outputs": [],
   "source": []
  }
 ],
 "metadata": {
  "kernelspec": {
   "display_name": "Python 3 (ipykernel)",
   "language": "python",
   "name": "python3"
  },
  "language_info": {
   "codemirror_mode": {
    "name": "ipython",
    "version": 3
   },
   "file_extension": ".py",
   "mimetype": "text/x-python",
   "name": "python",
   "nbconvert_exporter": "python",
   "pygments_lexer": "ipython3",
   "version": "3.13.5"
  },
  "widgets": {
   "application/vnd.jupyter.widget-state+json": {
    "state": {},
    "version_major": 2,
    "version_minor": 0
   }
  }
 },
 "nbformat": 4,
 "nbformat_minor": 5
}
