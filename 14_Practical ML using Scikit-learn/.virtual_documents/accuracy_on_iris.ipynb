import pandas as pd


from sklearn.tree import DecisionTreeClassifier


data = pd.read_excel("iris-train.xlsx")


data.head()


x = data.iloc[:, :-1]


y = data.iloc[:, -1]


y


model = DecisionTreeClassifier()


x.values


model.fit(x.values,y.values)


predictions = model.predict([[5.4,	3,	4.5,	1.5]])


predictions


datatest = pd.read_excel("iris-test.xlsx")


x_test = datatest.iloc[:, :-1]
y_test = datatest.iloc[:, -1]


predictions = model.predict(x_test.values)


predictions


actual = y_test.values


count = 0
for i in range(0, len(actual)):
    if actual[i] == predictions[i]:
        count = count + 1
print((count* 100)/len(actual))
