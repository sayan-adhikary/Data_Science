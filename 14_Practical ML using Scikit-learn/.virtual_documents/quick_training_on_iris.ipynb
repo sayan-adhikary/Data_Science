import pandas as pd


from sklearn.ensemble import RandomForestClassifier


data = pd.read_excel("iris-train.xlsx")


data.head()


x = data.iloc[:, :-1]


y = data.iloc[:, -1]


y


model = RandomForestClassifier()


x.values


model.fit(x.values,y.values)


predictions = model.predict([[5.4,	3,	4.5,	1.5]])


predictions


datatest = pd.read_excel("iris-test.xlsx")


x_test = datatest.iloc[:, :-1]


predictions = model.predict(x_test.values)


predictions



