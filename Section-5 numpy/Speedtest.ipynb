{
 "cells": [
  {
   "cell_type": "code",
   "execution_count": 2,
   "id": "318ad206-4294-42f3-8502-9c0f7b2ac0e7",
   "metadata": {},
   "outputs": [
    {
     "data": {
      "text/plain": [
       "[(1, 6), (2, 7), (4, 8)]"
      ]
     },
     "execution_count": 2,
     "metadata": {},
     "output_type": "execute_result"
    }
   ],
   "source": [
    "# Python Zip Explained\n",
    "l1 = [1, 2, 4]\n",
    "l2 = [6, 7, 8]\n",
    "list(zip(l1,l2))"
   ]
  },
  {
   "cell_type": "code",
   "execution_count": 3,
   "id": "41c2a89b-f245-40c3-a10e-ee02e980c34b",
   "metadata": {},
   "outputs": [
    {
     "name": "stdout",
     "output_type": "stream",
     "text": [
      "[0, 2, 4, 6, 8, 10, 12, 14, 16, 18]\n",
      "0.06899857521057129\n"
     ]
    }
   ],
   "source": [
    "# Using Python Lists\n",
    "import numpy as np\n",
    "import time\n",
    "\n",
    "size = 1_000_000\n",
    "\n",
    "l1 = list(range(size))\n",
    "l2 = list(range(size))\n",
    "\n",
    "start = time.time()\n",
    "add = [x+y for x,y in zip(l1, l2)]\n",
    "end = time.time()\n",
    "print(add[0:10])\n",
    "\n",
    "print(end - start)\n"
   ]
  },
  {
   "cell_type": "code",
   "execution_count": 4,
   "id": "fb144656-d83c-4487-94c8-22fe89a78f1f",
   "metadata": {},
   "outputs": [
    {
     "name": "stdout",
     "output_type": "stream",
     "text": [
      "[ 0  2  4  6  8 10 12 14 16 18]\n",
      "0.014019012451171875\n"
     ]
    }
   ],
   "source": [
    "# Using Numpy Arrays\n",
    "import numpy as np\n",
    "import time\n",
    "\n",
    "size = 1_000_000\n",
    "\n",
    "l1 = np.array(list(range(size)))\n",
    "l2 = np.array(list(range(size)))\n",
    "\n",
    "start = time.time()\n",
    "add = l1 + l2\n",
    "end = time.time()\n",
    "print(add[0:10])\n",
    "\n",
    "print(end - start)"
   ]
  },
  {
   "cell_type": "code",
   "execution_count": 5,
   "id": "43269f69-8016-48b6-9af6-b707546f21bd",
   "metadata": {},
   "outputs": [
    {
     "data": {
      "text/plain": [
       "array([1, 2, 3, 4, 5])"
      ]
     },
     "execution_count": 5,
     "metadata": {},
     "output_type": "execute_result"
    }
   ],
   "source": [
    "np.array([1, 2, 3, 4, 5])"
   ]
  },
  {
   "cell_type": "code",
   "execution_count": 6,
   "id": "ef22a82b-4573-4bbb-a7d1-b140910ffc4b",
   "metadata": {},
   "outputs": [],
   "source": [
    "arr = np.array([[1, 2, 3], [4, 5, 6]])"
   ]
  },
  {
   "cell_type": "code",
   "execution_count": 7,
   "id": "2f94aca4-3369-4ea0-ba93-cfd7cdfd6e03",
   "metadata": {},
   "outputs": [
    {
     "data": {
      "text/plain": [
       "numpy.ndarray"
      ]
     },
     "execution_count": 7,
     "metadata": {},
     "output_type": "execute_result"
    }
   ],
   "source": [
    "type(arr)"
   ]
  },
  {
   "cell_type": "code",
   "execution_count": 8,
   "id": "bea992fb-3bd9-42e9-a2f5-dc976885dc63",
   "metadata": {},
   "outputs": [
    {
     "data": {
      "text/plain": [
       "(2, 3)"
      ]
     },
     "execution_count": 8,
     "metadata": {},
     "output_type": "execute_result"
    }
   ],
   "source": [
    "arr.shape"
   ]
  },
  {
   "cell_type": "code",
   "execution_count": 9,
   "id": "0773e4c0-0a1b-459b-b22c-ca9d49e62f42",
   "metadata": {},
   "outputs": [
    {
     "name": "stdout",
     "output_type": "stream",
     "text": [
      "Python list size: 8056000 bytes\n",
      "NumPy array size: 4000 bytes\n"
     ]
    }
   ],
   "source": [
    "import sys\n",
    "list_data = list(range(1000))\n",
    "numpy_data = np.array(list_data)\n",
    "print(\"Python list size:\", sys.getsizeof(list_data) * len(list_data), \"bytes\")\n",
    "print(\"NumPy array size:\", numpy_data.nbytes, \"bytes\")"
   ]
  },
  {
   "cell_type": "code",
   "execution_count": 10,
   "id": "b924f1d2-6d43-4a85-bb86-666e4e95659b",
   "metadata": {
    "editable": true,
    "slideshow": {
     "slide_type": ""
    },
    "tags": []
   },
   "outputs": [],
   "source": [
    "list1 = [1,2,3,4]\n",
    "list_squares = [x ** 2 for x in list1]"
   ]
  },
  {
   "cell_type": "code",
   "execution_count": 11,
   "id": "cb707839-3719-4353-a9a9-362105699d9e",
   "metadata": {},
   "outputs": [
    {
     "data": {
      "text/plain": [
       "[1, 4, 9, 16]"
      ]
     },
     "execution_count": 11,
     "metadata": {},
     "output_type": "execute_result"
    }
   ],
   "source": [
    "list_squares"
   ]
  },
  {
   "cell_type": "code",
   "execution_count": 12,
   "id": "c03cd196-1750-4614-b11a-30a569dac993",
   "metadata": {},
   "outputs": [
    {
     "data": {
      "text/plain": [
       "array([ 1,  4,  9, 16, 25])"
      ]
     },
     "execution_count": 12,
     "metadata": {},
     "output_type": "execute_result"
    }
   ],
   "source": [
    "arr1 = np.array([1, 2, 3, 4, 5])\n",
    "numpy_aquares = arr1 ** 2\n",
    "numpy_aquares"
   ]
  },
  {
   "cell_type": "code",
   "execution_count": 13,
   "id": "cf5a95ec-bbaf-452d-83bd-708efd169a56",
   "metadata": {},
   "outputs": [
    {
     "name": "stdout",
     "output_type": "stream",
     "text": [
      "[ 10  11  12  13  14  15  16  17  18  19  20  21  22  23  24  25  26  27\n",
      "  28  29  30  31  32  33  34  35  36  37  38  39  40  41  42  43  44  45\n",
      "  46  47  48  49  50  51  52  53  54  55  56  57  58  59  60  61  62  63\n",
      "  64  65  66  67  68  69  70  71  72  73  74  75  76  77  78  79  80  81\n",
      "  82  83  84  85  86  87  88  89  90  91  92  93  94  95  96  97  98  99\n",
      " 100]\n",
      "\n",
      "Shape of the array: (91,)\n"
     ]
    }
   ],
   "source": [
    "# Create a NumPy array with values from 10 to 100\n",
    "my_array = np.arange(10, 101)\n",
    "\n",
    "# Print the shape of the array\n",
    "print(my_array)\n",
    "print(\"\\nShape of the array:\", my_array.shape)"
   ]
  },
  {
   "cell_type": "code",
   "execution_count": 14,
   "id": "86dd8052-377e-4da3-b861-d7cf661dc25b",
   "metadata": {},
   "outputs": [
    {
     "name": "stdout",
     "output_type": "stream",
     "text": [
      "Time taken for Python lists: 0.105019 seconds\n",
      "Time taken for NumPy arrays: 0.000997 seconds\n"
     ]
    }
   ],
   "source": [
    "import numpy as np\n",
    "import time\n",
    "\n",
    "# Create two large Python lists\n",
    "list1 = list(range(1000000))\n",
    "list2 = list(range(1000000))\n",
    "\n",
    "# Create two large NumPy arrays\n",
    "array1 = np.arange(1000000)\n",
    "array2 = np.arange(1000000)\n",
    "\n",
    "# Time multiplication of Python lists\n",
    "start_time = time.time()\n",
    "result_list = [a * b for a, b in zip(list1, list2)]\n",
    "end_time = time.time()\n",
    "print(f\"Time taken for Python lists: {end_time - start_time:.6f} seconds\")\n",
    "\n",
    "# Time multiplication of NumPy arrays\n",
    "start_time = time.time()\n",
    "result_array = array1 * array2\n",
    "end_time = time.time()\n",
    "print(f\"Time taken for NumPy arrays: {end_time - start_time:.6f} seconds\")"
   ]
  },
  {
   "cell_type": "code",
   "execution_count": 15,
   "id": "e8ba353f-2b97-41e5-999c-3e1111ffcd66",
   "metadata": {},
   "outputs": [
    {
     "name": "stdout",
     "output_type": "stream",
     "text": [
      "Size of each element: 4 bytes\n",
      "Total number of elements: 1000000\n",
      "Total memory size: 4000000 bytes\n",
      "Total memory size: 3.81 MB\n"
     ]
    }
   ],
   "source": [
    "import numpy as np\n",
    "\n",
    "# Create a NumPy array with 1 million elements\n",
    "arr = np.arange(1000000)\n",
    "\n",
    "# Get the size of a single item in bytes\n",
    "item_size = arr.itemsize\n",
    "\n",
    "# Get the total number of elements\n",
    "num_elements = arr.size\n",
    "\n",
    "# Calculate the total memory in bytes\n",
    "total_memory_bytes = item_size * num_elements\n",
    "\n",
    "# Convert to megabytes for a more readable format\n",
    "total_memory_mb = total_memory_bytes / (1024 * 1024)\n",
    "\n",
    "print(f\"Size of each element: {item_size} bytes\")\n",
    "print(f\"Total number of elements: {num_elements}\")\n",
    "print(f\"Total memory size: {total_memory_bytes} bytes\")\n",
    "print(f\"Total memory size: {total_memory_mb:.2f} MB\")"
   ]
  },
  {
   "cell_type": "code",
   "execution_count": null,
   "id": "896cccf2-3365-43b2-ba79-2acc1af03fee",
   "metadata": {},
   "outputs": [],
   "source": []
  }
 ],
 "metadata": {
  "kernelspec": {
   "display_name": "Python [conda env:base] *",
   "language": "python",
   "name": "conda-base-py"
  },
  "language_info": {
   "codemirror_mode": {
    "name": "ipython",
    "version": 3
   },
   "file_extension": ".py",
   "mimetype": "text/x-python",
   "name": "python",
   "nbconvert_exporter": "python",
   "pygments_lexer": "ipython3",
   "version": "3.12.7"
  }
 },
 "nbformat": 4,
 "nbformat_minor": 5
}
