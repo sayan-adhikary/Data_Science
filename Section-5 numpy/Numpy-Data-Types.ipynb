{
 "cells": [
  {
   "cell_type": "code",
   "execution_count": 4,
   "id": "ec6cafe1-d4b4-4293-af0b-1894c05451d9",
   "metadata": {},
   "outputs": [],
   "source": [
    "import numpy as np"
   ]
  },
  {
   "cell_type": "code",
   "execution_count": 6,
   "id": "dc497e93-e29d-46bc-9b64-dc8d55110174",
   "metadata": {},
   "outputs": [
    {
     "name": "stdout",
     "output_type": "stream",
     "text": [
      "int32\n"
     ]
    }
   ],
   "source": [
    "arr = np.array([1, 2, 3, 4, 5])\n",
    "print(arr.dtype)  # Output: int64 (or int32 depending on the system)"
   ]
  },
  {
   "cell_type": "code",
   "execution_count": 14,
   "id": "7f245d1f-9d5f-4ae0-a4df-b150edd79c81",
   "metadata": {},
   "outputs": [
    {
     "name": "stdout",
     "output_type": "stream",
     "text": [
      "float64\n",
      "[1 2 3]\n",
      "int32\n"
     ]
    }
   ],
   "source": [
    "arr = np.array([1.5, 2.7, 3.9])\n",
    "print(arr.dtype)  # Output: float64\n",
    "\n",
    "arr_int = arr.astype(np.int32)  # Converting float to int\n",
    "print(arr_int)    # Output: [1 2 3]\n",
    "print(arr_int.dtype)  # Output: int32"
   ]
  },
  {
   "cell_type": "code",
   "execution_count": 18,
   "id": "b2d40142-e56c-4407-9f15-48a604937da3",
   "metadata": {},
   "outputs": [
    {
     "name": "stdout",
     "output_type": "stream",
     "text": [
      "[1000000 2000000 3000000]\n",
      "int32\n"
     ]
    }
   ],
   "source": [
    "arr_large = np.array([1000000, 2000000, 3000000], dtype=np.int64)\n",
    "arr_small = arr_large.astype(np.int32)  # Downcasting to a smaller dtype\n",
    "print(arr_small)  # Output: [1000000 2000000 3000000]\n",
    "print(arr_small.dtype)  # Output: int32"
   ]
  },
  {
   "cell_type": "code",
   "execution_count": 22,
   "id": "24963da8-0068-4f41-9a07-f868f30190c0",
   "metadata": {},
   "outputs": [
    {
     "name": "stdout",
     "output_type": "stream",
     "text": [
      "24\n",
      "12\n"
     ]
    }
   ],
   "source": [
    "arr_int64 = np.array([1, 2, 3], dtype=np.int64)\n",
    "arr_int32 = np.array([1, 2, 3], dtype=np.int32)\n",
    "\n",
    "print(arr_int64.nbytes)  # Output: 24 bytes (3 elements * 8 bytes each)\n",
    "print(arr_int32.nbytes)  # Output: 12 bytes (3 elements * 4 bytes each)"
   ]
  },
  {
   "cell_type": "code",
   "execution_count": 24,
   "id": "354d267b-325d-4366-a0f3-b3de92bc9b60",
   "metadata": {},
   "outputs": [
    {
     "name": "stdout",
     "output_type": "stream",
     "text": [
      "['apple' 'banana' 'cherry']\n"
     ]
    }
   ],
   "source": [
    "arr = np.array(['apple', 'banana', 'cherry'], dtype='U10')  # Unicode string array\n",
    "print(arr)"
   ]
  },
  {
   "cell_type": "code",
   "execution_count": 26,
   "id": "f04baa3c-3619-4f74-8b1b-dba5f20846e7",
   "metadata": {},
   "outputs": [
    {
     "name": "stdout",
     "output_type": "stream",
     "text": [
      "[1.+2.j 3.+4.j 5.+6.j]\n"
     ]
    }
   ],
   "source": [
    "arr = np.array([1 + 2j, 3 + 4j, 5 + 6j], dtype='complex128')\n",
    "print(arr)"
   ]
  },
  {
   "cell_type": "code",
   "execution_count": 28,
   "id": "6248dcc2-e13c-4f6d-a85b-1caae1ebd869",
   "metadata": {},
   "outputs": [
    {
     "name": "stdout",
     "output_type": "stream",
     "text": [
      "[{'a': 1} list([1, 2, 3]) 'hello']\n"
     ]
    }
   ],
   "source": [
    "arr = np.array([{'a': 1}, [1, 2, 3], 'hello'], dtype=object)\n",
    "print(arr)"
   ]
  },
  {
   "cell_type": "code",
   "execution_count": null,
   "id": "0461dd7d-564a-43f1-92bc-f19a67062d63",
   "metadata": {},
   "outputs": [],
   "source": []
  }
 ],
 "metadata": {
  "kernelspec": {
   "display_name": "Python [conda env:base] *",
   "language": "python",
   "name": "conda-base-py"
  },
  "language_info": {
   "codemirror_mode": {
    "name": "ipython",
    "version": 3
   },
   "file_extension": ".py",
   "mimetype": "text/x-python",
   "name": "python",
   "nbconvert_exporter": "python",
   "pygments_lexer": "ipython3",
   "version": "3.12.7"
  }
 },
 "nbformat": 4,
 "nbformat_minor": 5
}
