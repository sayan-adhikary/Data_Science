{
 "cells": [
  {
   "cell_type": "code",
   "execution_count": 4,
   "id": "08509e47-d840-4cfd-bb54-fcd5f1a74912",
   "metadata": {},
   "outputs": [],
   "source": [
    "import numpy as np"
   ]
  },
  {
   "cell_type": "code",
   "execution_count": 6,
   "id": "33111d67-6e9c-4c82-858a-5bac2638df28",
   "metadata": {},
   "outputs": [
    {
     "name": "stdout",
     "output_type": "stream",
     "text": [
      "10\n",
      "40\n"
     ]
    }
   ],
   "source": [
    "arr = np.array([10, 20, 30, 40])\n",
    "print(arr[0])  # 10\n",
    "print(arr[-1]) # 40"
   ]
  },
  {
   "cell_type": "code",
   "execution_count": 10,
   "id": "fc0c416a-cd9c-44d4-9adf-bc3fe22451db",
   "metadata": {},
   "outputs": [
    {
     "name": "stdout",
     "output_type": "stream",
     "text": [
      "[20 30 40]\n",
      "[10 20 30]\n",
      "[10 30 50]\n"
     ]
    }
   ],
   "source": [
    "arr = np.array([10, 20, 30, 40, 50])\n",
    "\n",
    "print(arr[1:4])  # [20 30 40] (slice from index 1 to 3)\n",
    "print(arr[:3])   # [10 20 30] (first 3 elements)\n",
    "print(arr[::2])  # [10 30 50] (every 2nd element)"
   ]
  },
  {
   "cell_type": "code",
   "execution_count": 16,
   "id": "47152961-f23c-414a-83f0-64aee819aa15",
   "metadata": {},
   "outputs": [
    {
     "name": "stdout",
     "output_type": "stream",
     "text": [
      "[999  30  40]\n",
      "[ 10 999  30  40  50]\n"
     ]
    }
   ],
   "source": [
    "sliced = arr[1:4]\n",
    "sliced[0] = 999\n",
    "print(sliced)\n",
    "print(arr)  # [10 999 30 40 50]"
   ]
  },
  {
   "cell_type": "code",
   "execution_count": 36,
   "id": "cd670195-37d2-477a-8848-10be8df6f524",
   "metadata": {},
   "outputs": [],
   "source": [
    "a = arr[1:4].copy()"
   ]
  },
  {
   "cell_type": "code",
   "execution_count": 38,
   "id": "9d622af0-c0f1-4ae4-a1f9-27b9a0ecc75c",
   "metadata": {},
   "outputs": [
    {
     "name": "stdout",
     "output_type": "stream",
     "text": [
      "[999  30  40]\n"
     ]
    }
   ],
   "source": [
    "print(a)"
   ]
  },
  {
   "cell_type": "code",
   "execution_count": 40,
   "id": "4d7c5f5c-dacf-4b2a-8cfc-f61b80971e83",
   "metadata": {},
   "outputs": [
    {
     "name": "stdout",
     "output_type": "stream",
     "text": [
      "[ 1 30 40]\n"
     ]
    }
   ],
   "source": [
    "a[0] = 1\n",
    "print(a)"
   ]
  },
  {
   "cell_type": "code",
   "execution_count": 42,
   "id": "b059b96b-ebcd-4bf5-95f1-1f9d8deffb97",
   "metadata": {},
   "outputs": [
    {
     "name": "stdout",
     "output_type": "stream",
     "text": [
      "[ 10 999  30  40  50]\n"
     ]
    }
   ],
   "source": [
    "print(arr)"
   ]
  },
  {
   "cell_type": "code",
   "execution_count": 46,
   "id": "d0ab22d9-9a7c-45f1-9cd7-44fa91fea468",
   "metadata": {},
   "outputs": [
    {
     "name": "stdout",
     "output_type": "stream",
     "text": [
      "[10 30 50]\n"
     ]
    }
   ],
   "source": [
    "arr = np.array([10, 20, 30, 40, 50])\n",
    "idx = [0, 2, 4]  # Indices to select\n",
    "print(arr[idx])  # [10 30 50]"
   ]
  },
  {
   "cell_type": "code",
   "execution_count": 50,
   "id": "b71e0a51-1afa-4eab-9eca-cc1425ab404e",
   "metadata": {},
   "outputs": [
    {
     "name": "stdout",
     "output_type": "stream",
     "text": [
      "[10 20]\n"
     ]
    }
   ],
   "source": [
    "arr = np.array([10, 20, 30, 40, 50])\n",
    "mask = arr < 25  # Condition: values greater than 25\n",
    "print(arr[mask])  # [30 40 50]"
   ]
  },
  {
   "cell_type": "markdown",
   "id": "c20cf694-fefe-41a3-b67b-edb1dd29fde0",
   "metadata": {},
   "source": [
    "### Exercises for Practice\n",
    "\n",
    "- Create a 3×3 array filled with random numbers and print its shape.\n",
    "- Convert an array of floats `[1.1, 2.2, 3.3]` into integers.\n",
    "- Use fancy indexing to extract even numbers from `[1, 2, 3, 4, 5, 6]`.\n",
    "- Reshape a 1D array of size 9 into a 3×3 matrix.\n",
    "- Use boolean masking to filter numbers greater than 50 in an array.\n"
   ]
  },
  {
   "cell_type": "code",
   "execution_count": 87,
   "id": "f49d7c82-397a-4b39-b150-e05eb35a2d30",
   "metadata": {},
   "outputs": [
    {
     "name": "stdout",
     "output_type": "stream",
     "text": [
      "[[ 1  2  3]\n",
      " [23 24 25]\n",
      " [32 33 34]]\n",
      "(3, 3)\n"
     ]
    }
   ],
   "source": [
    "#1\n",
    "arr = np.array([[1,2,3],[23,24,25],[32,33,34]])\n",
    "print(arr)\n",
    "print(arr.shape)"
   ]
  },
  {
   "cell_type": "code",
   "execution_count": 97,
   "id": "0bb625af-dbcf-4104-ba78-76c71fbef839",
   "metadata": {},
   "outputs": [
    {
     "name": "stdout",
     "output_type": "stream",
     "text": [
      "[[1 2 3]]\n"
     ]
    }
   ],
   "source": [
    "#2\n",
    "arr = np.array([[1.1, 2.2, 3.3]], dtype = 'int32')\n",
    "print(arr)"
   ]
  },
  {
   "cell_type": "code",
   "execution_count": 104,
   "id": "d85e9a6b-2c04-44af-8635-b98bf3a0d992",
   "metadata": {},
   "outputs": [
    {
     "name": "stdout",
     "output_type": "stream",
     "text": [
      "[2 4 6]\n"
     ]
    }
   ],
   "source": [
    "#3\n",
    "arr = np.array([1, 2, 3, 4, 5, 6])\n",
    "idx = [1,3,5]\n",
    "print(arr[idx])"
   ]
  },
  {
   "cell_type": "code",
   "execution_count": 127,
   "id": "e627f0ac-a800-40aa-ac80-1dc57cd451a7",
   "metadata": {},
   "outputs": [
    {
     "name": "stdout",
     "output_type": "stream",
     "text": [
      "[[1 2 3]\n",
      " [4 5 6]\n",
      " [7 8 9]]\n"
     ]
    }
   ],
   "source": [
    "#4\n",
    "arr = np.array([1,2,3,4,5,6,7,8,9])\n",
    "a = arr.reshape(3,3)\n",
    "print(a)"
   ]
  },
  {
   "cell_type": "code",
   "execution_count": 133,
   "id": "ca3ce911-a7b7-4260-ac81-ac8fe7f91402",
   "metadata": {},
   "outputs": [
    {
     "name": "stdout",
     "output_type": "stream",
     "text": [
      "[ 51  60  70  80  90 100]\n"
     ]
    }
   ],
   "source": [
    "#5\n",
    "arr = np.array([20,21,24,49,50,51,60,70,80,90,100])\n",
    "print(arr[arr>50])"
   ]
  }
 ],
 "metadata": {
  "kernelspec": {
   "display_name": "Python [conda env:base] *",
   "language": "python",
   "name": "conda-base-py"
  },
  "language_info": {
   "codemirror_mode": {
    "name": "ipython",
    "version": 3
   },
   "file_extension": ".py",
   "mimetype": "text/x-python",
   "name": "python",
   "nbconvert_exporter": "python",
   "pygments_lexer": "ipython3",
   "version": "3.12.7"
  }
 },
 "nbformat": 4,
 "nbformat_minor": 5
}
