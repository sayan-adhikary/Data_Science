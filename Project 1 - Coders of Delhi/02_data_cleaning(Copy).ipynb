{
 "cells": [
  {
   "cell_type": "code",
   "execution_count": 4,
   "id": "ff06e428-6401-4be8-8a7b-e94f4d6385de",
   "metadata": {},
   "outputs": [
    {
     "name": "stdout",
     "output_type": "stream",
     "text": [
      "Data has been cleaned successfully\n"
     ]
    }
   ],
   "source": [
    "import json\n",
    "\n",
    "def clean_data(data):\n",
    "    # Remove users with missing names\n",
    "    data[\"users\"] = [user for user in data[\"users\"] if user[\"name\"].strip()]\n",
    "    \n",
    "    # Remove duplicate friends\n",
    "    for user in data[\"users\"]:\n",
    "        user['friends'] = list(set(user['friends']))\n",
    "        \n",
    "    # Remove inactive users\n",
    "    data['users'] = [user for user in data['users'] if user['friends'] or user['liked_pages']]\n",
    "\n",
    "    # Remove duplicate pages\n",
    "    unique_pages = {}\n",
    "    for page in data['pages']:\n",
    "        unique_pages[page['id']] = page\n",
    "    data['pages'] = list(unique_pages.values())\n",
    "    return data\n",
    "    \n",
    "\n",
    "# Load the data\n",
    "data = json.load(open(\"data2.json\"))\n",
    "data = clean_data(data)\n",
    "json.dump(data, open(\"cleaned_data3.json\", \"w\"), indent=4)\n",
    "print(\"Data has been cleaned successfully\")"
   ]
  },
  {
   "cell_type": "code",
   "execution_count": null,
   "id": "f07abb0c-da9d-4a62-b464-1dfffba6f1b3",
   "metadata": {},
   "outputs": [],
   "source": []
  }
 ],
 "metadata": {
  "kernelspec": {
   "display_name": "Python [conda env:base] *",
   "language": "python",
   "name": "conda-base-py"
  },
  "language_info": {
   "codemirror_mode": {
    "name": "ipython",
    "version": 3
   },
   "file_extension": ".py",
   "mimetype": "text/x-python",
   "name": "python",
   "nbconvert_exporter": "python",
   "pygments_lexer": "ipython3",
   "version": "3.12.7"
  }
 },
 "nbformat": 4,
 "nbformat_minor": 5
}
