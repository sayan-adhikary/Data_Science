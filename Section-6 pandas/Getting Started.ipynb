{
 "cells": [
  {
   "cell_type": "markdown",
   "id": "f7502d3f-03db-414f-a561-31de969083d0",
   "metadata": {},
   "source": [
    "# Getting Started with Pandas\n",
    "## What is Pandas?\n",
    "Pandas is a powerful, open-source Python library used for data manipulation, cleaning, and analysis. It provides two main data structures:\n",
    "\n",
    "- Series: A one-dimensional labeled array\n",
    "- DataFrame: A two-dimensional labeled table (like an Excel sheet or SQL table)\\\n",
    "  \n",
    "Pandas makes working with structured data fast, expressive, and flexible.\n",
    "\n",
    "- If you're working with tables, spreadsheets, or CSVs in Python—Pandas is your best friend.\n",
    "## Why Use Pandas?\n",
    "\n",
    "| Task                 | Without Pandas         | With Pandas                |\n",
    "|----------------------|------------------------|-----------------------------|\n",
    "| Load a CSV           | `open()` + loops       | `pd.read_csv()`             |\n",
    "| Filter rows          | Custom loop logic      | `df[df[\"col\"] > 5]`         |\n",
    "| Group & summarize    | Manual aggregation     | `df.groupby()`              |\n",
    "| Merge two datasets   | Nested loops           | `pd.merge()`                |\n",
    "\n",
    "Pandas saves time, reduces code, and increases readability.\n",
    "\n",
    "## Installing Pandas\n",
    "Install via pip:\n",
    "\n",
    "`pip install pandas`\n",
    "\n",
    "Or using conda (recommended if you're using Anaconda):\n",
    "\n",
    "`conda install pandas`\n",
    "\n",
    "## Importing Pandas \n",
    "`import pandas as pd`\n",
    "\n",
    "\"`pd` is the standard alias used by the data science community.\"\n",
    "\n",
    "## Pandas vs Excel vs SQL vs NumPy\n",
    "\n",
    "| Tool   | Strengths                              | Weaknesses                              |\n",
    "|--------|-----------------------------------------|------------------------------------------|\n",
    "| Excel  | Easy UI, great for small data           | Slow, manual, not scalable               |\n",
    "| SQL    | Efficient querying of big data          | Not ideal for transformation logic       |\n",
    "| NumPy  | Fast, low-level array operations        | No labels, harder for tabular data       |\n",
    "| Pandas | Label-aware, fast, flexible             | Slightly steep learning curve            |\n",
    "\n",
    "Pandas bridges the gap between NumPy performance and Excel-like usability. Pandas is built on top of NumPy.\n",
    "\n",
    "# Summary\n",
    "- Use Pandas when working with structured data.\n",
    "- It's the Swiss Army knife of data science."
   ]
  },
  {
   "cell_type": "code",
   "execution_count": 1,
   "id": "1fed6653-37da-4eb4-9140-c5303071e3e6",
   "metadata": {},
   "outputs": [],
   "source": [
    "import pandas as pd"
   ]
  },
  {
   "cell_type": "code",
   "execution_count": null,
   "id": "00aad727-9ec0-47b4-8404-f999b169f706",
   "metadata": {},
   "outputs": [],
   "source": []
  }
 ],
 "metadata": {
  "kernelspec": {
   "display_name": "Python [conda env:base] *",
   "language": "python",
   "name": "conda-base-py"
  },
  "language_info": {
   "codemirror_mode": {
    "name": "ipython",
    "version": 3
   },
   "file_extension": ".py",
   "mimetype": "text/x-python",
   "name": "python",
   "nbconvert_exporter": "python",
   "pygments_lexer": "ipython3",
   "version": "3.12.7"
  }
 },
 "nbformat": 4,
 "nbformat_minor": 5
}
